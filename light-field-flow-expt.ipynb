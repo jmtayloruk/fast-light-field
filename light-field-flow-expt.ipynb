{
 "cells": [
  {
   "cell_type": "code",
   "execution_count": 1,
   "metadata": {},
   "outputs": [
    {
     "name": "stderr",
     "output_type": "stream",
     "text": [
      "Vendor:  Continuum Analytics, Inc.\n",
      "Package: mkl\n",
      "Message: trial mode expires in 25 days\n"
     ]
    }
   ],
   "source": [
    "import numpy as np\n",
    "import scipy.ndimage, scipy.optimize, scipy.io\n",
    "import os, sys, time, warnings\n",
    "import matplotlib.pyplot as plt\n",
    "%matplotlib inline\n",
    "import tifffile\n",
    "import h5py\n",
    "#sys.path.insert(0, '/Volumes/Development/Spim_GUI/j_postacquisition')\n",
    "from tqdm import tqdm_notebook as tqdm"
   ]
  },
  {
   "cell_type": "code",
   "execution_count": null,
   "metadata": {
    "collapsed": true
   },
   "outputs": [],
   "source": []
  },
  {
   "cell_type": "code",
   "execution_count": 2,
   "metadata": {},
   "outputs": [
    {
     "name": "stderr",
     "output_type": "stream",
     "text": [
      "/Users/jonny/anaconda/lib/python3.5/site-packages/ipykernel_launcher.py:3: UserWarning: WARNING: Switched to faster matrix for testing\n",
      "  This is separate from the ipykernel package so we can avoid doing imports until\n"
     ]
    }
   ],
   "source": [
    "matPath = '../SIsoftware/PSFmatrix/PSFmatrix_M22.2NA0.5MLPitch125fml3125from-110to110zspacing4Nnum19lambda520n1.33.mat'\n",
    "\n",
    "warnings.warn('WARNING: Switched to faster matrix for testing')\n",
    "matPath = '/Users/jonny/Movies/PSFmatrix/PSFmatrix_M40NA0.95MLPitch150fml3000from-26to0zspacing2Nnum15lambda520n1.0.mat'"
   ]
  },
  {
   "cell_type": "code",
   "execution_count": 69,
   "metadata": {
    "scrolled": true
   },
   "outputs": [
    {
     "name": "stdout",
     "output_type": "stream",
     "text": [
      "Load H\n",
      "Load Ht\n",
      "Load misc\n",
      "float32 (14, 15, 15, 391, 391) (14, 15, 15, 391, 391) (2, 14)\n",
      "[[   1.   16.   31.   46.   61.   76.   91.  106.  121.  136.  151.  166.\n",
      "   166.  166.]\n",
      " [ 391.  376.  361.  346.  331.  316.  301.  286.  271.  256.  241.  226.\n",
      "   226.  226.]]\n"
     ]
    }
   ],
   "source": [
    "# Load the matrices from the .mat file.\n",
    "# This is slow since they must be decompressed and are rather large! (9.5GB each, in single-precision FP)\n",
    "print('Opening .mat file')\n",
    "sys.stdout.flush()\n",
    "with h5py.File(matPath, 'r') as f:\n",
    "    print('Loading H')\n",
    "    sys.stdout.flush()\n",
    "    H = f['H'].value\n",
    "    print('Loading Ht')\n",
    "    sys.stdout.flush()\n",
    "    Ht = f['Ht'].value\n",
    "    print('Loading misc')\n",
    "    sys.stdout.flush()\n",
    "    CAindex = f['CAindex'].value\n",
    "\n",
    "print(H.dtype, H.shape, Ht.shape, CAindex.shape)\n",
    "print(CAindex.transpose())"
   ]
  },
  {
   "cell_type": "markdown",
   "metadata": {},
   "source": [
    "## Objects stored in the .mat file\n",
    "\n",
    "### Optical parameters from GUI: [? means I am not sure if or where it is stored]\n",
    "\n",
    "M<br>\n",
    "NA<br>\n",
    "d    \"fml\" in GUI (stored here in units of m)<br>\n",
    "pixelPitch is \"ML pitch\" / \"Nnum\" (stored here in units of m)<br>\n",
    "? n<br>\n",
    "? wavelength<br>\n",
    "\n",
    "### User parameters from GUI:\n",
    "\n",
    "OSR<br>\n",
    "zspacing<br>\n",
    "? z-min<br>\n",
    "? z-max<br>\n",
    "Nnum<br>\n",
    "\n",
    "\n",
    "### Misc parameter:\n",
    "\n",
    "fobj (can presumably be deduced from mag, NA etc?)<br>\n",
    "\n",
    "### The actual arrays:\n",
    "\n",
    "H:             shape (56, 19, 19, 343, 343), type \"f4\"<br>\n",
    "Ht:            shape (56, 19, 19, 343, 343), type \"f4\"<br>\n",
    "\n",
    "### Information about object space:\n",
    "\n",
    "x1objspace:    x pixel positions in object space (19 elements across one lenslet)<br>\n",
    "x2objspace:    y pixel positions in object space (19 elements across one lenslet)<br>\n",
    "x3objspace:    z pixel positions in object space (56 z planes)<br>\n",
    "x1space:       x pixel positions in lenslet space (19 elements across one lenslet)<br>\n",
    "x2space:       y pixel positions in lenslet space (19 elements across one lenslet)<br>\n",
    "\n",
    "### Not sure what these are exactly:\n",
    "\n",
    "CAindex:       shape (2, 56) - something about the start and end index of the PSF array, for each z plane.<br>\n",
    "CP:            shape (343, 1)<br>\n",
    "MLARRAY:       shape (1141, 1141), type \"|V16\"<br>\n",
    "objspace:      shape (56, 1, 1)<br>\n",
    "settingPSF:    You would think this contains the GUI parameters, but e.g. print(f['settingPSF']['M'].value) gives a strange 3x1 array [50, 50, 46, 50] etc...?<br>\n"
   ]
  },
  {
   "cell_type": "code",
   "execution_count": 4,
   "metadata": {
    "collapsed": true
   },
   "outputs": [],
   "source": [
    "# This function copy-pasted from:\n",
    "# https://stackoverflow.com/questions/3731093/is-there-a-python-equivalent-of-matlabs-conv2-function\n",
    "# The intention is to exactly replicate the conv2 function in Matlab.\n",
    "# The issue is that scipy and matlab handle edge effects slightly differently\n",
    "\n",
    "from scipy.ndimage.filters import convolve\n",
    "from scipy.signal import convolve2d, fftconvolve\n",
    "\n",
    "\n",
    "def conv2(x,y,mode='same'):\n",
    "    # I took inspiration from the code at:\n",
    "    # https://stackoverflow.com/questions/3731093/is-there-a-python-equivalent-of-matlabs-conv2-function\n",
    "    # but I have attempted to achieve the same thing by slight zero-padding instead of by changing the origin.\n",
    "    # That enables me to use fftconvolve instead of convolve (which makes the code much, much faster!)\n",
    "    #print('conv', x.shape, y.shape)\n",
    "    if not(mode == 'same'):\n",
    "        raise Exception(\"Mode not supported\")\n",
    "\n",
    "    # Add singleton dimensions\n",
    "    if (len(x.shape) < len(y.shape)):\n",
    "        dim = x.shape\n",
    "        for i in range(len(x.shape),len(y.shape)):\n",
    "            dim = (1,) + dim\n",
    "        x = x.reshape(dim)\n",
    "    elif (len(y.shape) < len(x.shape)):\n",
    "        dim = y.shape\n",
    "        for i in range(len(y.shape),len(x.shape)):\n",
    "            dim = (1,) + dim\n",
    "        y = y.reshape(dim)\n",
    "\n",
    "    # Apply padding to reproduce the exact same results as Matlab\n",
    "    padShape = np.zeros((len(x.shape), 2), dtype='int32')\n",
    "    for i in range(len(x.shape)):\n",
    "        if ((x.shape[i] - y.shape[i]) % 2 == 0) and (x.shape[i] > 1) and (y.shape[i] > 1):\n",
    "            padShape[i,0] = 1\n",
    "        else:\n",
    "            padShape[i,1] = 1\n",
    "            #print('Pad axis', i)\n",
    "    xp = np.pad(x, padShape, 'constant')\n",
    "    \n",
    "    if False:\n",
    "        # Original (much slower) code for comparison\n",
    "        origin = ()\n",
    "        for i in range(len(x.shape)):\n",
    "            if ((x.shape[i] - y.shape[i]) % 2 == 0 and\n",
    "                 x.shape[i] > 1 and\n",
    "                 y.shape[i] > 1):\n",
    "                origin = origin + (-1,)\n",
    "            else:\n",
    "                origin = origin + (0,)\n",
    "\n",
    "            t1 = time.time()\n",
    "            z = convolve(x,y, mode='constant', origin=origin)\n",
    "            t2 = time.time()\n",
    "\n",
    "    zp = fftconvolve(xp, y, mode='same')\n",
    "        \n",
    "    # Apply padding to reproduce the exact same results as Matlab\n",
    "    # I have just empirically found that this works.\n",
    "    assert(len(zp.shape) == 2)   # I have only implemented this, because I can't find a generic function for N axes\n",
    "    unpadShape = np.zeros((len(x.shape), 2), dtype='int32')\n",
    "    for i in range(len(x.shape)):\n",
    "        if (y.shape[i] % 2 == 0):#    TODO: check if it matters that they are >1...    and (x.shape[i] > 1) and (y.shape[i] > 1):\n",
    "            unpadShape[i,0] = 1\n",
    "            unpadShape[i,1] = x.shape[i]+1\n",
    "        else:\n",
    "            unpadShape[i,0] = 0\n",
    "            unpadShape[i,1] = x.shape[i]\n",
    "    t3 = time.time()\n",
    "    zup = zp[unpadShape[0,0]:unpadShape[0,1], unpadShape[1,0]:unpadShape[1,1]]\n",
    "    t4 = time.time()\n",
    "\n",
    "    return zup"
   ]
  },
  {
   "cell_type": "code",
   "execution_count": 5,
   "metadata": {
    "collapsed": true
   },
   "outputs": [],
   "source": [
    "# Note: I am a little unsure how to interpret the arrays I have loaded from the .mat.\n",
    "# From looking at how H and CAindex are accessed, it looks as if the shapes I have loaded\n",
    "# are the reversal of the shape ordering as expected in Matlab.\n",
    "# I suppose that makes sense given that matlab is column-major in its array accesses.\n",
    "# The data has been loaded from disk in the order it is *stored*,\n",
    "# and I therefore need to flip around all the matlab array index ordering \n",
    "# (e.g. matlabArray(1,2,3) becomes pythonArray[3,2,1])"
   ]
  },
  {
   "cell_type": "code",
   "execution_count": 66,
   "metadata": {
    "collapsed": true
   },
   "outputs": [],
   "source": [
    "# Note: H.shape in python is (56, 19, 19, 343, 343)\n",
    "\n",
    "def forwardProjectACC(H, realspace, CAindex):\n",
    "    Nnum = H.shape[2]\n",
    "    zerospace = np.zeros((realspace.shape[1], realspace.shape[2]), dtype='float32')\n",
    "    TOTALprojection = zerospace;\n",
    "\n",
    "    # Iterate over each lenslet pixel\n",
    "    for aa in tqdm(range(Nnum), desc='Forward-project - x'):\n",
    "        for bb in tqdm(range(Nnum), leave=False, desc='Forward-project - y'):\n",
    "            # Iterate over each z plane\n",
    "            for cc in range(realspace.shape[0]):\n",
    "                # I think this extracts the part of H that is nonzero for this z plane (and lenslet pixel)\n",
    "                Hs = H[cc, bb, aa, CAindex[0,cc]-1:CAindex[1,cc], CAindex[0,cc]-1:CAindex[1,cc]]#.squeeze()\n",
    "                print(aa, bb, cc, H.shape, Hs.shape)\n",
    "                # Create a workspace representing just the voxels cc,bb,aa behind each lenslet (the rest is 0)\n",
    "                tempspace = zerospace.copy()\n",
    "                tempspace[bb::Nnum, aa::Nnum] = realspace[cc, bb::Nnum, aa::Nnum]\n",
    "                # Compute how those voxels project onto the sensor\n",
    "                projection = conv2(tempspace, Hs, 'same')\n",
    "                # Accumuate that signal onto the sensor\n",
    "                TOTALprojection = TOTALprojection + projection\n",
    "    return TOTALprojection\n",
    "\n",
    "\n",
    "def ConvolveManual(projection, aa, bb, Hts):\n",
    "    tempSlice = np.zeros(projection.shape, dtype='float32')\n",
    "    rangeA = range(aa, projection.shape[0], Nnum)\n",
    "    rangeB = range(bb, projection.shape[1], Nnum)\n",
    "    assert((Hts.shape[0] % 2) == 1)\n",
    "    assert((Hts.shape[0] == Hts.shape[1]))\n",
    "    centH = int(Hts.shape[0]/2)\n",
    "    for a in rangeA:\n",
    "        x0 = np.minimum(a, centH)\n",
    "        x1 = np.minimum(projection.shape[0]-a, centH+1)\n",
    "        for b in rangeB:\n",
    "            y0 = np.minimum(b, centH)\n",
    "            y1 = np.minimum(projection.shape[1]-b, centH+1)\n",
    "            tempSlice[a-x0:a+x1, b-y0:b+y1] += Hts[centH-x0:centH+x1, centH-y0:centH+y1] * projection[a, b]\n",
    "    return tempSlice\n",
    "# Other thoughts for speeding things up: we are repeatedly convolving with the same submatrix of Ht.\n",
    "# We could precalculate its Fourier transform. I don't think that would speed things up much, though,\n",
    "# because that is small compared to the size of 'projection'.\n",
    "   \n",
    "    \n",
    "    \n",
    "    \n",
    "def backwardProjectACC(Ht, projection, CAindex):\n",
    "    print(projection.shape)\n",
    "    x3length = Ht.shape[0]\n",
    "    Nnum = Ht.shape[2]\n",
    "    print((x3length, projection.shape[0], projection.shape[1]))\n",
    "    Backprojection = np.zeros((x3length, projection.shape[0], projection.shape[1]), dtype='float32')\n",
    "    zeroSlice = np.zeros(projection.shape, dtype='float32')  # TODO: I am assuming projection is a 2D array here\n",
    "\n",
    "    # Iterate over each z plane\n",
    "    for cc in tqdm(range(x3length), desc='Back-project - z'):\n",
    "        sys.stdout.flush()\n",
    "        tempSliceBack = zeroSlice.copy()\n",
    "        print('Ht is %dx%d' % (CAindex[1,cc]-CAindex[0,cc], CAindex[1,cc]-CAindex[0,cc]))\n",
    "        # Iterate over each lenslet pixel\n",
    "        for aa in tqdm(range(1), leave=False, desc='y'):\n",
    "            for bb in tqdm(range(Nnum), leave=False, desc='x'):    \n",
    "                Hts = Ht[cc, bb, aa, CAindex[0,cc]-1:CAindex[1,cc], CAindex[0,cc]-1:CAindex[1,cc]]#.squeeze()             \n",
    "                tempSlice = zeroSlice.copy()\n",
    "                if False:\n",
    "                    # I tried doing this manually, given how sparse the array is,\n",
    "                    # but it wasn't actually any faster.\n",
    "                    tempSliceBack = tempSliceBack + ConvolveManual(projection, aa, bb, Hts)\n",
    "                else:\n",
    "                    tempSlice[aa::Nnum, bb::Nnum] = projection[aa::Nnum, bb::Nnum]\n",
    "                    tempSliceBack = tempSliceBack + conv2(tempSlice, Hts, 'same')\n",
    "        Backprojection[cc,:,:] = Backprojection[cc,:,:] + tempSliceBack\n",
    "    return Backprojection"
   ]
  },
  {
   "cell_type": "code",
   "execution_count": 61,
   "metadata": {},
   "outputs": [
    {
     "name": "stdout",
     "output_type": "stream",
     "text": [
      "manual 6.741102933883667\n",
      "scipy  1.4916081428527832\n",
      "2.14381620499e-14\n"
     ]
    }
   ],
   "source": [
    "Nnum = 19\n",
    "projection = np.zeros((19*110,19*110))\n",
    "aa = 0\n",
    "bb = 0\n",
    "projection[aa,bb] = 1\n",
    "projection[19+aa,19+bb] = 2\n",
    "Hts = np.ones((303,303))#np.array([[1, 2, 3], [4, 5, 6], [7, 8, 9]])\n",
    "\n",
    "t1 = time.time()\n",
    "result1 = ConvolveManual(projection, aa, bb, Hts)\n",
    "\n",
    "t2 = time.time()\n",
    "\n",
    "tempSlice = np.zeros(projection.shape, dtype='float32')\n",
    "tempSlice[aa::Nnum, bb::Nnum] = projection[aa::Nnum, bb::Nnum]\n",
    "result2 = conv2(tempSlice, Hts, 'same')\n",
    "t3 = time.time()\n",
    "print('manual', t2-t1)\n",
    "print('scipy ', t3-t2)\n",
    "\n",
    "difference = result1 - result2\n",
    "print(np.max(np.abs(difference)))"
   ]
  },
  {
   "cell_type": "code",
   "execution_count": 62,
   "metadata": {
    "collapsed": true
   },
   "outputs": [],
   "source": [
    "def deconvRL(Htf, maxIter, Xguess):\n",
    "    for i in range(maxIter):\n",
    "        t0 = time.time()\n",
    "        HXguess = forwardProjectACC(H, Xguess, CAindex)\n",
    "        HXguessBack = backwardProjectACC(Ht, HXguess, CAindex)\n",
    "        errorBack = Htf / HXguessBack\n",
    "        Xguess = Xguess * errorBack\n",
    "        Xguess[np.where(np.isnan(Xguess))] = 0\n",
    "        ttime = time.time() - t0\n",
    "        print('iter %d | %d, took %.1f secs' % (i+1, maxIter, ttime))\n",
    "    return Xguess"
   ]
  },
  {
   "cell_type": "code",
   "execution_count": 63,
   "metadata": {
    "collapsed": true
   },
   "outputs": [],
   "source": [
    "# Load the input image\n",
    "LFmovie = tifffile.imread('/Volumes/Development/SIsoftware/Data/01_Raw/exampleData/20131219WORM2_small_full_neg_X1.tif')\n",
    "LFmovie = LFmovie[np.newaxis,:,:]"
   ]
  },
  {
   "cell_type": "code",
   "execution_count": 64,
   "metadata": {
    "collapsed": true
   },
   "outputs": [],
   "source": [
    "maxIter = 8"
   ]
  },
  {
   "cell_type": "code",
   "execution_count": 67,
   "metadata": {
    "scrolled": false
   },
   "outputs": [
    {
     "name": "stdout",
     "output_type": "stream",
     "text": [
      "(2160, 2560)\n",
      "(14, 2160, 2560)\n"
     ]
    },
    {
     "data": {
      "application/vnd.jupyter.widget-view+json": {
       "model_id": "a6829cffdfa44e7ba8489c463c8fcbe3",
       "version_major": 2,
       "version_minor": 0
      },
      "text/plain": [
       "HBox(children=(IntProgress(value=0, description='Back-project - z', max=14, style=ProgressStyle(description_wi…"
      ]
     },
     "metadata": {},
     "output_type": "display_data"
    },
    {
     "name": "stdout",
     "output_type": "stream",
     "text": [
      "Ht is 390x390\n"
     ]
    },
    {
     "data": {
      "application/vnd.jupyter.widget-view+json": {
       "model_id": "",
       "version_major": 2,
       "version_minor": 0
      },
      "text/plain": [
       "HBox(children=(IntProgress(value=0, description='y', max=1, style=ProgressStyle(description_width='initial')),…"
      ]
     },
     "metadata": {},
     "output_type": "display_data"
    },
    {
     "data": {
      "application/vnd.jupyter.widget-view+json": {
       "model_id": "",
       "version_major": 2,
       "version_minor": 0
      },
      "text/plain": [
       "HBox(children=(IntProgress(value=0, description='x', max=15, style=ProgressStyle(description_width='initial'))…"
      ]
     },
     "metadata": {},
     "output_type": "display_data"
    },
    {
     "name": "stderr",
     "output_type": "stream",
     "text": [
      "/Users/jonny/anaconda/lib/python3.5/site-packages/ipykernel_launcher.py:64: DeprecationWarning: using a non-integer number instead of an integer will result in an error in the future\n"
     ]
    },
    {
     "name": "stdout",
     "output_type": "stream",
     "text": [
      "Ht is 360x360\n"
     ]
    },
    {
     "data": {
      "application/vnd.jupyter.widget-view+json": {
       "model_id": "abfe84dcba3c4ef481708e6d0a114eb0",
       "version_major": 2,
       "version_minor": 0
      },
      "text/plain": [
       "HBox(children=(IntProgress(value=0, description='y', max=1, style=ProgressStyle(description_width='initial')),…"
      ]
     },
     "metadata": {},
     "output_type": "display_data"
    },
    {
     "data": {
      "application/vnd.jupyter.widget-view+json": {
       "model_id": "edfc6cc7e58d484086889a2f6a80ad42",
       "version_major": 2,
       "version_minor": 0
      },
      "text/plain": [
       "HBox(children=(IntProgress(value=0, description='x', max=15, style=ProgressStyle(description_width='initial'))…"
      ]
     },
     "metadata": {},
     "output_type": "display_data"
    },
    {
     "ename": "KeyboardInterrupt",
     "evalue": "",
     "output_type": "error",
     "traceback": [
      "\u001b[0;31m---------------------------------------------------------------------------\u001b[0m",
      "\u001b[0;31mKeyboardInterrupt\u001b[0m                         Traceback (most recent call last)",
      "\u001b[0;32m<ipython-input-67-9985815a9092>\u001b[0m in \u001b[0;36m<module>\u001b[0;34m()\u001b[0m\n\u001b[1;32m      2\u001b[0m     \u001b[0mLFIMG\u001b[0m \u001b[0;34m=\u001b[0m \u001b[0mLFmovie\u001b[0m\u001b[0;34m[\u001b[0m\u001b[0mframe\u001b[0m\u001b[0;34m]\u001b[0m\u001b[0;34m.\u001b[0m\u001b[0mastype\u001b[0m\u001b[0;34m(\u001b[0m\u001b[0;34m'float32'\u001b[0m\u001b[0;34m)\u001b[0m\u001b[0;34m\u001b[0m\u001b[0m\n\u001b[1;32m      3\u001b[0m     \u001b[0mt0\u001b[0m \u001b[0;34m=\u001b[0m \u001b[0mtime\u001b[0m\u001b[0;34m.\u001b[0m\u001b[0mtime\u001b[0m\u001b[0;34m(\u001b[0m\u001b[0;34m)\u001b[0m\u001b[0;34m\u001b[0m\u001b[0m\n\u001b[0;32m----> 4\u001b[0;31m     \u001b[0mHtf\u001b[0m \u001b[0;34m=\u001b[0m \u001b[0mbackwardProjectACC\u001b[0m\u001b[0;34m(\u001b[0m\u001b[0mHt\u001b[0m\u001b[0;34m,\u001b[0m \u001b[0mLFIMG\u001b[0m\u001b[0;34m,\u001b[0m \u001b[0mCAindex\u001b[0m\u001b[0;34m)\u001b[0m\u001b[0;34m\u001b[0m\u001b[0m\n\u001b[0m\u001b[1;32m      5\u001b[0m     \u001b[0mprint\u001b[0m\u001b[0;34m(\u001b[0m\u001b[0;34m'iter 0 | %d, took %.1f secs'\u001b[0m \u001b[0;34m%\u001b[0m \u001b[0;34m(\u001b[0m\u001b[0mmaxIter\u001b[0m\u001b[0;34m,\u001b[0m \u001b[0mtime\u001b[0m\u001b[0;34m.\u001b[0m\u001b[0mtime\u001b[0m\u001b[0;34m(\u001b[0m\u001b[0;34m)\u001b[0m\u001b[0;34m-\u001b[0m\u001b[0mt0\u001b[0m\u001b[0;34m)\u001b[0m\u001b[0;34m)\u001b[0m\u001b[0;34m\u001b[0m\u001b[0m\n\u001b[1;32m      6\u001b[0m     \u001b[0mXguess\u001b[0m \u001b[0;34m=\u001b[0m \u001b[0mHtf\u001b[0m\u001b[0;34m;\u001b[0m    \u001b[0;31m# Or do it differently if !indepIter\u001b[0m\u001b[0;34m\u001b[0m\u001b[0m\n",
      "\u001b[0;32m<ipython-input-66-fca80eb9b886>\u001b[0m in \u001b[0;36mbackwardProjectACC\u001b[0;34m(Ht, projection, CAindex)\u001b[0m\n\u001b[1;32m     70\u001b[0m                 \u001b[0;32melse\u001b[0m\u001b[0;34m:\u001b[0m\u001b[0;34m\u001b[0m\u001b[0m\n\u001b[1;32m     71\u001b[0m                     \u001b[0mtempSlice\u001b[0m\u001b[0;34m[\u001b[0m\u001b[0maa\u001b[0m\u001b[0;34m:\u001b[0m\u001b[0;34m:\u001b[0m\u001b[0mNnum\u001b[0m\u001b[0;34m,\u001b[0m \u001b[0mbb\u001b[0m\u001b[0;34m:\u001b[0m\u001b[0;34m:\u001b[0m\u001b[0mNnum\u001b[0m\u001b[0;34m]\u001b[0m \u001b[0;34m=\u001b[0m \u001b[0mprojection\u001b[0m\u001b[0;34m[\u001b[0m\u001b[0maa\u001b[0m\u001b[0;34m:\u001b[0m\u001b[0;34m:\u001b[0m\u001b[0mNnum\u001b[0m\u001b[0;34m,\u001b[0m \u001b[0mbb\u001b[0m\u001b[0;34m:\u001b[0m\u001b[0;34m:\u001b[0m\u001b[0mNnum\u001b[0m\u001b[0;34m]\u001b[0m\u001b[0;34m\u001b[0m\u001b[0m\n\u001b[0;32m---> 72\u001b[0;31m                     \u001b[0mtempSliceBack\u001b[0m \u001b[0;34m=\u001b[0m \u001b[0mtempSliceBack\u001b[0m \u001b[0;34m+\u001b[0m \u001b[0mconv2\u001b[0m\u001b[0;34m(\u001b[0m\u001b[0mtempSlice\u001b[0m\u001b[0;34m,\u001b[0m \u001b[0mHts\u001b[0m\u001b[0;34m,\u001b[0m \u001b[0;34m'same'\u001b[0m\u001b[0;34m)\u001b[0m\u001b[0;34m\u001b[0m\u001b[0m\n\u001b[0m\u001b[1;32m     73\u001b[0m         \u001b[0mBackprojection\u001b[0m\u001b[0;34m[\u001b[0m\u001b[0mcc\u001b[0m\u001b[0;34m,\u001b[0m\u001b[0;34m:\u001b[0m\u001b[0;34m,\u001b[0m\u001b[0;34m:\u001b[0m\u001b[0;34m]\u001b[0m \u001b[0;34m=\u001b[0m \u001b[0mBackprojection\u001b[0m\u001b[0;34m[\u001b[0m\u001b[0mcc\u001b[0m\u001b[0;34m,\u001b[0m\u001b[0;34m:\u001b[0m\u001b[0;34m,\u001b[0m\u001b[0;34m:\u001b[0m\u001b[0;34m]\u001b[0m \u001b[0;34m+\u001b[0m \u001b[0mtempSliceBack\u001b[0m\u001b[0;34m\u001b[0m\u001b[0m\n\u001b[1;32m     74\u001b[0m     \u001b[0;32mreturn\u001b[0m \u001b[0mBackprojection\u001b[0m\u001b[0;34m\u001b[0m\u001b[0m\n",
      "\u001b[0;32m<ipython-input-4-501a43f944ba>\u001b[0m in \u001b[0;36mconv2\u001b[0;34m(x, y, mode)\u001b[0m\n\u001b[1;32m     54\u001b[0m             \u001b[0mt2\u001b[0m \u001b[0;34m=\u001b[0m \u001b[0mtime\u001b[0m\u001b[0;34m.\u001b[0m\u001b[0mtime\u001b[0m\u001b[0;34m(\u001b[0m\u001b[0;34m)\u001b[0m\u001b[0;34m\u001b[0m\u001b[0m\n\u001b[1;32m     55\u001b[0m \u001b[0;34m\u001b[0m\u001b[0m\n\u001b[0;32m---> 56\u001b[0;31m     \u001b[0mzp\u001b[0m \u001b[0;34m=\u001b[0m \u001b[0mfftconvolve\u001b[0m\u001b[0;34m(\u001b[0m\u001b[0mxp\u001b[0m\u001b[0;34m,\u001b[0m \u001b[0my\u001b[0m\u001b[0;34m,\u001b[0m \u001b[0mmode\u001b[0m\u001b[0;34m=\u001b[0m\u001b[0;34m'same'\u001b[0m\u001b[0;34m)\u001b[0m\u001b[0;34m\u001b[0m\u001b[0m\n\u001b[0m\u001b[1;32m     57\u001b[0m \u001b[0;34m\u001b[0m\u001b[0m\n\u001b[1;32m     58\u001b[0m     \u001b[0;31m# Apply padding to reproduce the exact same results as Matlab\u001b[0m\u001b[0;34m\u001b[0m\u001b[0;34m\u001b[0m\u001b[0m\n",
      "\u001b[0;32m~/anaconda/lib/python3.5/site-packages/scipy/signal/signaltools.py\u001b[0m in \u001b[0;36mfftconvolve\u001b[0;34m(in1, in2, mode)\u001b[0m\n\u001b[1;32m    359\u001b[0m         \u001b[0;32mtry\u001b[0m\u001b[0;34m:\u001b[0m\u001b[0;34m\u001b[0m\u001b[0m\n\u001b[1;32m    360\u001b[0m             ret = irfftn(rfftn(in1, fshape) *\n\u001b[0;32m--> 361\u001b[0;31m                          rfftn(in2, fshape), fshape)[fslice].copy()\n\u001b[0m\u001b[1;32m    362\u001b[0m         \u001b[0;32mfinally\u001b[0m\u001b[0;34m:\u001b[0m\u001b[0;34m\u001b[0m\u001b[0m\n\u001b[1;32m    363\u001b[0m             \u001b[0;32mif\u001b[0m \u001b[0;32mnot\u001b[0m \u001b[0m_rfft_mt_safe\u001b[0m\u001b[0;34m:\u001b[0m\u001b[0;34m\u001b[0m\u001b[0m\n",
      "\u001b[0;32m~/anaconda/lib/python3.5/site-packages/numpy/fft/fftpack.py\u001b[0m in \u001b[0;36mrfftn\u001b[0;34m(a, s, axes, norm)\u001b[0m\n\u001b[1;32m   1073\u001b[0m     \u001b[0ma\u001b[0m \u001b[0;34m=\u001b[0m \u001b[0mrfft\u001b[0m\u001b[0;34m(\u001b[0m\u001b[0ma\u001b[0m\u001b[0;34m,\u001b[0m \u001b[0ms\u001b[0m\u001b[0;34m[\u001b[0m\u001b[0;34m-\u001b[0m\u001b[0;36m1\u001b[0m\u001b[0;34m]\u001b[0m\u001b[0;34m,\u001b[0m \u001b[0maxes\u001b[0m\u001b[0;34m[\u001b[0m\u001b[0;34m-\u001b[0m\u001b[0;36m1\u001b[0m\u001b[0;34m]\u001b[0m\u001b[0;34m,\u001b[0m \u001b[0mnorm\u001b[0m\u001b[0;34m)\u001b[0m\u001b[0;34m\u001b[0m\u001b[0m\n\u001b[1;32m   1074\u001b[0m     \u001b[0;32mfor\u001b[0m \u001b[0mii\u001b[0m \u001b[0;32min\u001b[0m \u001b[0mrange\u001b[0m\u001b[0;34m(\u001b[0m\u001b[0mlen\u001b[0m\u001b[0;34m(\u001b[0m\u001b[0maxes\u001b[0m\u001b[0;34m)\u001b[0m\u001b[0;34m-\u001b[0m\u001b[0;36m1\u001b[0m\u001b[0;34m)\u001b[0m\u001b[0;34m:\u001b[0m\u001b[0;34m\u001b[0m\u001b[0m\n\u001b[0;32m-> 1075\u001b[0;31m         \u001b[0ma\u001b[0m \u001b[0;34m=\u001b[0m \u001b[0mfft\u001b[0m\u001b[0;34m(\u001b[0m\u001b[0ma\u001b[0m\u001b[0;34m,\u001b[0m \u001b[0ms\u001b[0m\u001b[0;34m[\u001b[0m\u001b[0mii\u001b[0m\u001b[0;34m]\u001b[0m\u001b[0;34m,\u001b[0m \u001b[0maxes\u001b[0m\u001b[0;34m[\u001b[0m\u001b[0mii\u001b[0m\u001b[0;34m]\u001b[0m\u001b[0;34m,\u001b[0m \u001b[0mnorm\u001b[0m\u001b[0;34m)\u001b[0m\u001b[0;34m\u001b[0m\u001b[0m\n\u001b[0m\u001b[1;32m   1076\u001b[0m     \u001b[0;32mreturn\u001b[0m \u001b[0ma\u001b[0m\u001b[0;34m\u001b[0m\u001b[0m\n\u001b[1;32m   1077\u001b[0m \u001b[0;34m\u001b[0m\u001b[0m\n",
      "\u001b[0;32m~/anaconda/lib/python3.5/site-packages/numpy/fft/fftpack.py\u001b[0m in \u001b[0;36mfft\u001b[0;34m(a, n, axis, norm)\u001b[0m\n\u001b[1;32m    187\u001b[0m     \u001b[0;32mif\u001b[0m \u001b[0mn\u001b[0m \u001b[0;32mis\u001b[0m \u001b[0;32mNone\u001b[0m\u001b[0;34m:\u001b[0m\u001b[0;34m\u001b[0m\u001b[0m\n\u001b[1;32m    188\u001b[0m         \u001b[0mn\u001b[0m \u001b[0;34m=\u001b[0m \u001b[0ma\u001b[0m\u001b[0;34m.\u001b[0m\u001b[0mshape\u001b[0m\u001b[0;34m[\u001b[0m\u001b[0maxis\u001b[0m\u001b[0;34m]\u001b[0m\u001b[0;34m\u001b[0m\u001b[0m\n\u001b[0;32m--> 189\u001b[0;31m     \u001b[0moutput\u001b[0m \u001b[0;34m=\u001b[0m \u001b[0m_raw_fft\u001b[0m\u001b[0;34m(\u001b[0m\u001b[0ma\u001b[0m\u001b[0;34m,\u001b[0m \u001b[0mn\u001b[0m\u001b[0;34m,\u001b[0m \u001b[0maxis\u001b[0m\u001b[0;34m,\u001b[0m \u001b[0mfftpack\u001b[0m\u001b[0;34m.\u001b[0m\u001b[0mcffti\u001b[0m\u001b[0;34m,\u001b[0m \u001b[0mfftpack\u001b[0m\u001b[0;34m.\u001b[0m\u001b[0mcfftf\u001b[0m\u001b[0;34m,\u001b[0m \u001b[0m_fft_cache\u001b[0m\u001b[0;34m)\u001b[0m\u001b[0;34m\u001b[0m\u001b[0m\n\u001b[0m\u001b[1;32m    190\u001b[0m     \u001b[0;32mif\u001b[0m \u001b[0m_unitary\u001b[0m\u001b[0;34m(\u001b[0m\u001b[0mnorm\u001b[0m\u001b[0;34m)\u001b[0m\u001b[0;34m:\u001b[0m\u001b[0;34m\u001b[0m\u001b[0m\n\u001b[1;32m    191\u001b[0m         \u001b[0moutput\u001b[0m \u001b[0;34m*=\u001b[0m \u001b[0;36m1\u001b[0m \u001b[0;34m/\u001b[0m \u001b[0msqrt\u001b[0m\u001b[0;34m(\u001b[0m\u001b[0mn\u001b[0m\u001b[0;34m)\u001b[0m\u001b[0;34m\u001b[0m\u001b[0m\n",
      "\u001b[0;32m~/anaconda/lib/python3.5/site-packages/numpy/fft/fftpack.py\u001b[0m in \u001b[0;36m_raw_fft\u001b[0;34m(a, n, axis, init_function, work_function, fft_cache)\u001b[0m\n\u001b[1;32m     79\u001b[0m     \u001b[0;32mif\u001b[0m \u001b[0maxis\u001b[0m \u001b[0;34m!=\u001b[0m \u001b[0;34m-\u001b[0m\u001b[0;36m1\u001b[0m\u001b[0;34m:\u001b[0m\u001b[0;34m\u001b[0m\u001b[0m\n\u001b[1;32m     80\u001b[0m         \u001b[0ma\u001b[0m \u001b[0;34m=\u001b[0m \u001b[0mswapaxes\u001b[0m\u001b[0;34m(\u001b[0m\u001b[0ma\u001b[0m\u001b[0;34m,\u001b[0m \u001b[0maxis\u001b[0m\u001b[0;34m,\u001b[0m \u001b[0;34m-\u001b[0m\u001b[0;36m1\u001b[0m\u001b[0;34m)\u001b[0m\u001b[0;34m\u001b[0m\u001b[0m\n\u001b[0;32m---> 81\u001b[0;31m     \u001b[0mr\u001b[0m \u001b[0;34m=\u001b[0m \u001b[0mwork_function\u001b[0m\u001b[0;34m(\u001b[0m\u001b[0ma\u001b[0m\u001b[0;34m,\u001b[0m \u001b[0mwsave\u001b[0m\u001b[0;34m)\u001b[0m\u001b[0;34m\u001b[0m\u001b[0m\n\u001b[0m\u001b[1;32m     82\u001b[0m     \u001b[0;32mif\u001b[0m \u001b[0maxis\u001b[0m \u001b[0;34m!=\u001b[0m \u001b[0;34m-\u001b[0m\u001b[0;36m1\u001b[0m\u001b[0;34m:\u001b[0m\u001b[0;34m\u001b[0m\u001b[0m\n\u001b[1;32m     83\u001b[0m         \u001b[0mr\u001b[0m \u001b[0;34m=\u001b[0m \u001b[0mswapaxes\u001b[0m\u001b[0;34m(\u001b[0m\u001b[0mr\u001b[0m\u001b[0;34m,\u001b[0m \u001b[0maxis\u001b[0m\u001b[0;34m,\u001b[0m \u001b[0;34m-\u001b[0m\u001b[0;36m1\u001b[0m\u001b[0;34m)\u001b[0m\u001b[0;34m\u001b[0m\u001b[0m\n",
      "\u001b[0;31mKeyboardInterrupt\u001b[0m: "
     ]
    }
   ],
   "source": [
    "for frame in range(1):\n",
    "    LFIMG = LFmovie[frame].astype('float32')\n",
    "    t0 = time.time()\n",
    "    Htf = backwardProjectACC(Ht, LFIMG, CAindex)\n",
    "    print('iter 0 | %d, took %.1f secs' % (maxIter, time.time()-t0))\n",
    "    Xguess = Htf;    # Or do it differently if !indepIter\n",
    "    \n",
    "    #Xguess = deconvRL(Htf, maxIter, Xguess)\n",
    "    \n",
    "    \n",
    "# Matlab (with multithreading) takes:\n",
    "#  iter 0 | 8, took 192.6506 secs\n",
    "#  iter 1 | 8, took 516.5403 secs\n"
   ]
  },
  {
   "cell_type": "code",
   "execution_count": null,
   "metadata": {
    "collapsed": true
   },
   "outputs": [],
   "source": [
    "if False:\n",
    "    aa = np.array([[1, 2, 3, 4, 5], [4, 5, 6, 7, 8], [7, 8, 9, 10, 11]]).astype('float32')\n",
    "    bb = np.array([[1, 2, 3, 4], [4, 5, 6, 7], [7, 8, 9, 10]]).astype('float32')\n",
    "\n",
    "    aa = np.array([[1, 2, 3, 4, 5]*100, [4, 5, 6, 7, 8]*100, [7, 8, 9, 10, 11]*100]).astype('float32')\n",
    "    #aa = np.zeros((100, 100)).astype('float32')\n",
    "    bb = aa.copy()\n",
    "    #conv2(aa, bb)\n",
    "    #conv2(np.pad(aa, ((1,0),(0,0)), 'constant'), bb)\n",
    "\n",
    "if False:\n",
    "    r = range(110,112)\n",
    "    for a1 in r:\n",
    "        for a2 in r:\n",
    "            for b1 in r:\n",
    "                for b2 in r:\n",
    "                    aa = np.random.random((a1,a2))\n",
    "                    bb = np.random.random((b1,b2))\n",
    "                    #print(a1, a2, b1, b2)\n",
    "                    conv2(aa,bb)"
   ]
  },
  {
   "cell_type": "code",
   "execution_count": null,
   "metadata": {
    "collapsed": true
   },
   "outputs": [],
   "source": []
  },
  {
   "cell_type": "code",
   "execution_count": null,
   "metadata": {
    "collapsed": true
   },
   "outputs": [],
   "source": []
  },
  {
   "cell_type": "code",
   "execution_count": null,
   "metadata": {
    "collapsed": true
   },
   "outputs": [],
   "source": []
  },
  {
   "cell_type": "code",
   "execution_count": null,
   "metadata": {
    "collapsed": true
   },
   "outputs": [],
   "source": []
  },
  {
   "cell_type": "code",
   "execution_count": null,
   "metadata": {
    "collapsed": true
   },
   "outputs": [],
   "source": []
  }
 ],
 "metadata": {
  "kernelspec": {
   "display_name": "Python 3",
   "language": "python",
   "name": "python3"
  },
  "language_info": {
   "codemirror_mode": {
    "name": "ipython",
    "version": 3
   },
   "file_extension": ".py",
   "mimetype": "text/x-python",
   "name": "python",
   "nbconvert_exporter": "python",
   "pygments_lexer": "ipython3",
   "version": "3.5.4"
  }
 },
 "nbformat": 4,
 "nbformat_minor": 2
}
