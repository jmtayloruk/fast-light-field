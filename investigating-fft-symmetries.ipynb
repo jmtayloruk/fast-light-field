{
 "cells": [
  {
   "cell_type": "code",
   "execution_count": null,
   "metadata": {},
   "outputs": [],
   "source": [
    "import numpy as np\n",
    "import numexpr as ne\n",
    "import matplotlib.pyplot as plt\n",
    "import tqdm"
   ]
  },
  {
   "cell_type": "code",
   "execution_count": null,
   "metadata": {},
   "outputs": [],
   "source": [
    "# Relationship for \"special\" FFT\n",
    "# For both the individual tiles *and* the whole thing, it is true that\n",
    "# the second half is just the reversed conjugate of the first half.\n",
    "# In retrospect that shouldn't be a surprise!\n",
    "a = np.array([1, 0, 0, 0, 3.4, 0, 0, 0, 2.19, 0, 0, 0, 0.765, 0, 0, 0])\n",
    "print(np.fft.rfft(a))"
   ]
  },
  {
   "cell_type": "code",
   "execution_count": null,
   "metadata": {},
   "outputs": [],
   "source": [
    "# Check that my code works (for a 2d array)\n",
    "from numpy.fft import fft, fftn, rfft, rfftn, irfftn\n",
    "Nnum = 4\n",
    "a = np.random.random((8*Nnum,8*Nnum))\n",
    "subset = np.zeros(a.shape)\n",
    "subset[::Nnum, ::Nnum] = a[::Nnum, ::Nnum]\n",
    "longhandResult = fftn(subset)\n",
    "\n",
    "reduced = a[::Nnum, ::Nnum]\n",
    "reducedShape = reduced.shape\n",
    "fshape = a.shape\n",
    "reducedF = fftn(reduced, reducedShape)\n",
    "result = np.tile(reducedF, (1,Nnum))   # edited\n",
    "#result *= np.exp(-1j * aa * 2*np.pi / fshape[1] * np.arange(result.shape[1]))\n",
    "result = np.tile(result, (Nnum,1))\n",
    "#result *= np.exp(-1j * bb * 2*np.pi / fshape[0] * np.arange(result.shape[0]))[:,np.newaxis]\n",
    "\n",
    "print(np.max(np.abs(result - longhandResult)))"
   ]
  },
  {
   "cell_type": "code",
   "execution_count": null,
   "metadata": {},
   "outputs": [],
   "source": [
    "a = np.pad(np.random.random(16), (0,0), 'constant')\n",
    "print(a)\n",
    "print(a[::-1])"
   ]
  },
  {
   "cell_type": "code",
   "execution_count": null,
   "metadata": {},
   "outputs": [],
   "source": [
    "# Relationship between the FT of a and of the reversed version of a\n",
    "af = np.fft.fft(a)\n",
    "afm = np.fft.fft(a[::-1])\n",
    "af = af.conj() * np.exp(1j * 2*np.pi / a.shape[0] * np.arange(a.shape[0]))\n",
    "print(np.max(np.abs(af - afm)))"
   ]
  },
  {
   "cell_type": "code",
   "execution_count": null,
   "metadata": {},
   "outputs": [],
   "source": [
    "# Relationship between the FT of a and of the reversed version of a when you take into account padding\n",
    "padLength = 14\n",
    "af = np.fft.fft(np.pad(a, (0,padLength), 'constant'))\n",
    "afm = np.fft.fft(np.pad(a[::-1], (0,padLength), 'constant'))\n",
    "afm = afm.conj() * np.exp(1j * (1+padLength) * 2*np.pi / af.shape[0] * np.arange(af.shape[0]))\n",
    "print(np.max(np.abs(af - afm)))"
   ]
  },
  {
   "cell_type": "code",
   "execution_count": null,
   "metadata": {},
   "outputs": [],
   "source": []
  },
  {
   "cell_type": "code",
   "execution_count": null,
   "metadata": {},
   "outputs": [],
   "source": [
    "# Relationship with reversed version (with padding) in 2D\n",
    "# The 2D version requires even more gymnastics:\n",
    "Hts = np.random.random((3,3))\n",
    "fshape = (7,10)\n",
    "\n",
    "fHtsFull = fftn(Hts, fshape)\n",
    "fHtsFull2 = fftn(Hts[:,::-1], fshape)\n",
    "padLength = fshape[1] - Hts.shape[1]\n",
    "fHtsFull = fHtsFull.conj() * np.exp(1j * (1+padLength) * 2*np.pi / fshape[1] * np.arange(fshape[1]))\n",
    "fHtsFull[1::] = fHtsFull[1::][::-1]\n",
    "print(np.max(np.abs(fHtsFull-fHtsFull2)))\n",
    "\n",
    "fHtsFull = fftn(Hts, fshape)\n",
    "fHtsFull2 = fftn(Hts[::-1,:], fshape)\n",
    "padLength = fshape[0] - Hts.shape[0]\n",
    "fHtsFull = fHtsFull.conj() * np.exp(1j * (1+padLength) * 2*np.pi / fshape[0] * np.arange(fshape[0])[:,np.newaxis])\n",
    "fHtsFull[:,1::] = fHtsFull[:,1::][:,::-1]\n",
    "print(np.max(np.abs(fHtsFull-fHtsFull2)))\n",
    "\n",
    "# But why did I need to reverse the full array in the 2D case?\n",
    "# I don't see the logic behind that. Is there a more appropriate (and faster) transformation I can perform?\n",
    "# -> We can factor out the exp term and multiply it at the end.\n",
    "#    What is then left comes down to the relationship between FT(x) and FT(x*), which is the reversal"
   ]
  },
  {
   "cell_type": "code",
   "execution_count": null,
   "metadata": {},
   "outputs": [],
   "source": [
    "# Relationship between the FT of a and the transposed version of a when you take into account padding\n",
    "b = np.random.random((16,16))\n",
    "bf = np.fft.fft2(np.pad(b, ((0,padLength),(0,padLength)), 'constant'))\n",
    "bft = np.fft.fft2(np.pad(b.transpose(), ((0,padLength),(0,padLength)), 'constant'))\n",
    "print(np.max(np.abs(bf - bft.transpose())))"
   ]
  },
  {
   "cell_type": "code",
   "execution_count": null,
   "metadata": {},
   "outputs": [],
   "source": [
    "# Relationship with transpose when working with non-square padding(!?)\n",
    "# -> Sadly I don't think there is any useful result here.\n",
    "# My reason is based on the fact that there is not (as far as I know) any computationally-simple relationship\n",
    "# between an FFT with one amount of padding and an FFT with another amount of padding.\n",
    "# That means that the fft of the transpose of an array looks fundamentally different,\n",
    "# when the same rectangular padding is used in both cases."
   ]
  },
  {
   "cell_type": "code",
   "execution_count": null,
   "metadata": {},
   "outputs": [],
   "source": [
    "# Work out some code that covers the whole subaperture using mirror/transpose operations\n",
    "# to minimize the number of times we actually need to compute the FFT of the PSF matrix.\n",
    "\n",
    "Nnum = 7\n",
    "\n",
    "covered = np.zeros((Nnum,Nnum))\n",
    "\n",
    "def process(aa,bb):\n",
    "    covered[aa,bb] += 1\n",
    "    \n",
    "def processFor2(aa,bb,Nnum,mirrorX):\n",
    "    process(aa,bb)\n",
    "    if mirrorX:\n",
    "        process(aa,Nnum-bb-1)\n",
    "\n",
    "def processFor(aa,bb,Nnum,mirrorX,mirrorY):\n",
    "    processFor2(aa,bb,Nnum,mirrorX)\n",
    "    if mirrorY:\n",
    "        processFor2(Nnum-aa-1,bb,Nnum,mirrorX)\n",
    "        \n",
    "    \n",
    "for aa in range(int((Nnum+1)/2)):\n",
    "    for bb in range(aa,int((Nnum+1)/2)):\n",
    "        cent = int(Nnum/2)\n",
    "        transpose = ((aa != bb) and (aa != (Nnum-bb-1)))\n",
    "        mirrorX = (bb != cent)\n",
    "        mirrorY = (aa != cent)\n",
    "        processFor(aa,bb,Nnum,mirrorX,mirrorY)\n",
    "        if transpose:\n",
    "            processFor(bb,aa,Nnum,mirrorY,mirrorX) # Note that mx,my are swapped after transpose\n",
    "\n",
    "print(covered)"
   ]
  },
  {
   "cell_type": "code",
   "execution_count": null,
   "metadata": {},
   "outputs": [],
   "source": []
  }
 ],
 "metadata": {
  "kernelspec": {
   "display_name": "Python 2",
   "language": "python",
   "name": "python2"
  },
  "language_info": {
   "codemirror_mode": {
    "name": "ipython",
    "version": 2
   },
   "file_extension": ".py",
   "mimetype": "text/x-python",
   "name": "python",
   "nbconvert_exporter": "python",
   "pygments_lexer": "ipython2",
   "version": "2.7.15"
  }
 },
 "nbformat": 4,
 "nbformat_minor": 2
}
