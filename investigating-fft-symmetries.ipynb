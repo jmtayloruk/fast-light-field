{
 "cells": [
  {
   "cell_type": "code",
   "execution_count": 2,
   "metadata": {},
   "outputs": [],
   "source": [
    "import numpy as np\n",
    "import matplotlib.pyplot as plt\n",
    "import tqdm"
   ]
  },
  {
   "cell_type": "code",
   "execution_count": 4,
   "metadata": {},
   "outputs": [
    {
     "name": "stdout",
     "output_type": "stream",
     "text": [
      "[ 7.355+0.j    -1.19 -2.635j -0.975-0.j    -1.19 +2.635j  7.355+0.j\n",
      " -1.19 -2.635j -0.975+0.j    -1.19 +2.635j  7.355+0.j   ]\n"
     ]
    }
   ],
   "source": [
    "# Relationship for \"special\" FFT\n",
    "# For both the individual tiles *and* the whole thing, it is true that\n",
    "# the second half is just the reversed conjugate of the first half.\n",
    "# In retrospect that shouldn't be a surprise!\n",
    "a = np.array([1, 0, 0, 0, 3.4, 0, 0, 0, 2.19, 0, 0, 0, 0.765, 0, 0, 0])\n",
    "print(np.fft.rfft(a))"
   ]
  },
  {
   "cell_type": "code",
   "execution_count": 23,
   "metadata": {},
   "outputs": [
    {
     "name": "stdout",
     "output_type": "stream",
     "text": [
      "0.0\n"
     ]
    }
   ],
   "source": [
    "# Check that my code works (for a 2d array)\n",
    "from numpy.fft import fft, fftn, rfft, rfftn, irfftn\n",
    "Nnum = 4\n",
    "a = np.random.random((8*Nnum,8*Nnum))\n",
    "subset = np.zeros(a.shape)\n",
    "subset[::Nnum, ::Nnum] = a[::Nnum, ::Nnum]\n",
    "longhandResult = fftn(subset)\n",
    "\n",
    "reduced = a[::Nnum, ::Nnum]\n",
    "reducedShape = reduced.shape\n",
    "fshape = a.shape\n",
    "reducedF = fftn(reduced, reducedShape)\n",
    "result = np.tile(reducedF, (1,Nnum))   # edited\n",
    "#result *= np.exp(-1j * aa * 2*np.pi / fshape[1] * np.arange(result.shape[1]))\n",
    "result = np.tile(result, (Nnum,1))\n",
    "#result *= np.exp(-1j * bb * 2*np.pi / fshape[0] * np.arange(result.shape[0]))[:,np.newaxis]\n",
    "\n",
    "print(np.max(np.abs(result - longhandResult)))\n"
   ]
  },
  {
   "cell_type": "code",
   "execution_count": 11,
   "metadata": {},
   "outputs": [
    {
     "name": "stdout",
     "output_type": "stream",
     "text": [
      "[0.8863861  0.94376279 0.22873319 0.68661514 0.24783578 0.17129133\n",
      " 0.69678102 0.3534258  0.46877118 0.76330932 0.75897284 0.95378466\n",
      " 0.51964095 0.42295071 0.88461372 0.13277243]\n",
      "[0.13277243 0.88461372 0.42295071 0.51964095 0.95378466 0.75897284\n",
      " 0.76330932 0.46877118 0.3534258  0.69678102 0.17129133 0.24783578\n",
      " 0.68661514 0.22873319 0.94376279 0.8863861 ]\n"
     ]
    }
   ],
   "source": [
    "a = np.pad(np.random.random(16), (0,0), 'constant')\n",
    "print(a)\n",
    "print(a[::-1])"
   ]
  },
  {
   "cell_type": "code",
   "execution_count": 21,
   "metadata": {},
   "outputs": [
    {
     "data": {
      "text/plain": [
       "[<matplotlib.lines.Line2D at 0x114213690>]"
      ]
     },
     "execution_count": 21,
     "metadata": {},
     "output_type": "execute_result"
    },
    {
     "data": {
      "image/png": "[encoded data removed]",
      "text/plain": [
       "<Figure size 432x288 with 1 Axes>"
      ]
     },
     "metadata": {
      "needs_background": "light"
     },
     "output_type": "display_data"
    }
   ],
   "source": [
    "# Relationship between the FT of a and of the reversed version of a\n",
    "af = np.fft.fft(a)\n",
    "afm = np.fft.fft(a[::-1])\n",
    "afm = afm.conj() * np.exp(1j * 2*np.pi / a.shape[0] * np.arange(a.shape[0]))\n",
    "plt.plot((np.angle(af) - np.angle(afm)))"
   ]
  },
  {
   "cell_type": "code",
   "execution_count": 30,
   "metadata": {},
   "outputs": [
    {
     "data": {
      "text/plain": [
       "(-7, 7)"
      ]
     },
     "execution_count": 30,
     "metadata": {},
     "output_type": "execute_result"
    },
    {
     "data": {
      "image/png": "[encoded data removed]",
      "text/plain": [
       "<Figure size 432x288 with 1 Axes>"
      ]
     },
     "metadata": {
      "needs_background": "light"
     },
     "output_type": "display_data"
    }
   ],
   "source": [
    "# Relationship between the FT of a and of the reversed version of a when you take into account padding\n",
    "padLength = 14\n",
    "af = np.fft.fft(np.pad(a, (0,padLength), 'constant'))\n",
    "afm = np.fft.fft(np.pad(a[::-1], (0,padLength), 'constant'))\n",
    "afm = afm.conj() * np.exp(1j * 2*np.pi / af.shape[0] * np.arange(af.shape[0]))\n",
    "afm *= np.exp(1j * padLength * 2*np.pi / af.shape[0] * np.arange(af.shape[0]))\n",
    "plt.plot((np.angle(af) - np.angle(afm)))\n",
    "plt.ylim(-7,7)"
   ]
  },
  {
   "cell_type": "code",
   "execution_count": 35,
   "metadata": {},
   "outputs": [
    {
     "name": "stdout",
     "output_type": "stream",
     "text": [
      "1.432144669219779e-14\n"
     ]
    }
   ],
   "source": [
    "# Relationship between the FT of a and the transposed version of a when you take into account padding\n",
    "b = np.random.random((16,16))\n",
    "bf = np.fft.fft2(np.pad(b, ((0,padLength),(0,padLength)), 'constant'))\n",
    "bft = np.fft.fft2(np.pad(b.transpose(), ((0,padLength),(0,padLength)), 'constant'))\n",
    "print(np.max(np.abs(bf - bft.transpose())))"
   ]
  },
  {
   "cell_type": "code",
   "execution_count": 60,
   "metadata": {},
   "outputs": [
    {
     "name": "stderr",
     "output_type": "stream",
     "text": [
      "y:   0%|          | 0/4 [00:00<?, ?it/s]\n",
      "x:   0%|          | 0/4 [00:00<?, ?it/s]\u001b[A\n",
      "                                        \u001b[A\n",
      "x:   0%|          | 0/3 [00:00<?, ?it/s]\u001b[A\n",
      "                                        \u001b[A\n",
      "x:   0%|          | 0/2 [00:00<?, ?it/s]\u001b[A\n",
      "                                        \u001b[A\n",
      "x:   0%|          | 0/1 [00:00<?, ?it/s]\u001b[A\n",
      "                                        \u001b[A"
     ]
    },
    {
     "name": "stdout",
     "output_type": "stream",
     "text": [
      "('processFor2', 0, 0, True)\n",
      "(0, 0)\n",
      "(0, 6)\n",
      "('processFor2', 6, 0, True)\n",
      "(6, 0)\n",
      "(6, 6)\n",
      "('processFor2', 0, 1, True)\n",
      "(0, 1)\n",
      "(0, 5)\n",
      "('processFor2', 6, 1, True)\n",
      "(6, 1)\n",
      "(6, 5)\n",
      "('processFor2', 1, 0, True)\n",
      "(1, 0)\n",
      "(1, 6)\n",
      "('processFor2', 5, 0, True)\n",
      "(5, 0)\n",
      "(5, 6)\n",
      "('processFor2', 0, 2, True)\n",
      "(0, 2)\n",
      "(0, 4)\n",
      "('processFor2', 6, 2, True)\n",
      "(6, 2)\n",
      "(6, 4)\n",
      "('processFor2', 2, 0, True)\n",
      "(2, 0)\n",
      "(2, 6)\n",
      "('processFor2', 4, 0, True)\n",
      "(4, 0)\n",
      "(4, 6)\n",
      "('processFor2', 0, 3, False)\n",
      "(0, 3)\n",
      "('processFor2', 6, 3, False)\n",
      "(6, 3)\n",
      "('processFor2', 3, 0, True)\n",
      "(3, 0)\n",
      "(3, 6)\n",
      "('processFor2', 1, 1, True)\n",
      "(1, 1)\n",
      "(1, 5)\n",
      "('processFor2', 5, 1, True)\n",
      "(5, 1)\n",
      "(5, 5)\n",
      "('processFor2', 1, 2, True)\n",
      "(1, 2)\n",
      "(1, 4)\n",
      "('processFor2', 5, 2, True)\n",
      "(5, 2)\n",
      "(5, 4)\n",
      "('processFor2', 2, 1, True)\n",
      "(2, 1)\n",
      "(2, 5)\n",
      "('processFor2', 4, 1, True)\n",
      "(4, 1)\n",
      "(4, 5)\n",
      "('processFor2', 1, 3, False)\n",
      "(1, 3)\n",
      "('processFor2', 5, 3, False)\n",
      "(5, 3)\n",
      "('processFor2', 3, 1, True)\n",
      "(3, 1)\n",
      "(3, 5)\n",
      "('processFor2', 2, 2, True)\n",
      "(2, 2)\n",
      "(2, 4)\n",
      "('processFor2', 4, 2, True)\n",
      "(4, 2)\n",
      "(4, 4)\n",
      "('processFor2', 2, 3, False)\n",
      "(2, 3)\n",
      "('processFor2', 4, 3, False)\n",
      "(4, 3)\n",
      "('processFor2', 3, 2, True)\n",
      "(3, 2)\n",
      "(3, 4)\n",
      "('processFor2', 3, 3, False)\n",
      "(3, 3)\n",
      "[[1. 1. 1. 1. 1. 1. 1.]\n",
      " [1. 1. 1. 1. 1. 1. 1.]\n",
      " [1. 1. 1. 1. 1. 1. 1.]\n",
      " [1. 1. 1. 1. 1. 1. 1.]\n",
      " [1. 1. 1. 1. 1. 1. 1.]\n",
      " [1. 1. 1. 1. 1. 1. 1.]\n",
      " [1. 1. 1. 1. 1. 1. 1.]]\n"
     ]
    },
    {
     "name": "stderr",
     "output_type": "stream",
     "text": [
      "\r"
     ]
    }
   ],
   "source": [
    "# Work out some code that covers the whole subaperture using mirror/transpose operations\n",
    "# to minimize the number of times we actually need to compute the FFT of the PSF matrix.\n",
    "\n",
    "Nnum = 7\n",
    "\n",
    "covered = np.zeros((Nnum,Nnum))\n",
    "\n",
    "def process(aa,bb):\n",
    "    print(aa,bb)\n",
    "    covered[aa,bb] += 1\n",
    "    \n",
    "def processFor2(aa,bb,Nnum,mirrorX):\n",
    "    print('processFor2', aa,bb,mirrorX)\n",
    "    process(aa,bb)\n",
    "    if mirrorX:\n",
    "        process(aa,Nnum-bb-1)\n",
    "\n",
    "def processFor(aa,bb,Nnum,mirrorX,mirrorY):\n",
    "    processFor2(aa,bb,Nnum,mirrorX)\n",
    "    if mirrorY:\n",
    "        processFor2(Nnum-aa-1,bb,Nnum,mirrorX)\n",
    "        \n",
    "    \n",
    "for aa in tqdm.tqdm(range(int((Nnum+1)/2)), leave=False, desc='y'):\n",
    "    for bb in tqdm.tqdm(range(aa,int((Nnum+1)/2)), leave=False, desc='x'):    \n",
    "        cent = int(Nnum/2)\n",
    "        transpose = ((aa != bb) and (aa != (Nnum-bb-1)))\n",
    "        mirrorX = (bb != cent)\n",
    "        mirrorY = (aa != cent)\n",
    "        processFor(aa,bb,Nnum,mirrorX,mirrorY)\n",
    "        if transpose:\n",
    "            processFor(bb,aa,Nnum,mirrorY,mirrorX) # Note that mx,my are swapped after transpose\n",
    "\n",
    "print(covered)"
   ]
  },
  {
   "cell_type": "code",
   "execution_count": null,
   "metadata": {},
   "outputs": [],
   "source": []
  }
 ],
 "metadata": {
  "kernelspec": {
   "display_name": "Python 2",
   "language": "python",
   "name": "python2"
  },
  "language_info": {
   "codemirror_mode": {
    "name": "ipython",
    "version": 2
   },
   "file_extension": ".py",
   "mimetype": "text/x-python",
   "name": "python",
   "nbconvert_exporter": "python",
   "pygments_lexer": "ipython2",
   "version": "2.7.15"
  }
 },
 "nbformat": 4,
 "nbformat_minor": 2
}
