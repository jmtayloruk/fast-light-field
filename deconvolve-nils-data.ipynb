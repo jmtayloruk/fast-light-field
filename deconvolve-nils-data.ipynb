{
 "cells": [
  {
   "cell_type": "code",
   "execution_count": null,
   "metadata": {},
   "outputs": [],
   "source": [
    "import numpy as np\n",
    "import matplotlib.pyplot as plt\n",
    "import multiprocessing\n",
    "import tifffile\n",
    "import sys, time, os, csv\n",
    "import cProfile, pstats\n",
    "from jutils import tqdm_alias as tqdm\n",
    "\n",
    "import psfmatrix, lfimage\n",
    "import projector, lfdeconv\n",
    "import special_fftconvolve as special\n",
    "import jutils as util\n",
    "import py_light_field as plf"
   ]
  },
  {
   "cell_type": "code",
   "execution_count": null,
   "metadata": {},
   "outputs": [],
   "source": [
    "projectorClass = projector.Projector_allC\n",
    "maxiter = 8"
   ]
  },
  {
   "cell_type": "markdown",
   "metadata": {},
   "source": [
    "### Do the actual deconvolution of some of Nils's data\n",
    "\n",
    "Note that, compared to Prevedel's PSF generation code, I have fixed the max bug, and also flux-normalised H."
   ]
  },
  {
   "cell_type": "code",
   "execution_count": null,
   "metadata": {},
   "outputs": [],
   "source": [
    "hMatrix = psfmatrix.LoadMatrix('PSFmatrix/fdnormPSFMatrix_M22.2NA0.5MLPitch125fml3125from-156to156zspacing4Nnum19lambda520n1.33.mat')\n",
    "inputImage = []\n",
    "lr = 'Right'\n",
    "for i in range(40, 41):\n",
    "    im = lfimage.LoadLightFieldTiff('/Users/jonny/Movies/Nils files/Rectified/%s/Cam_%s_%d_X%d_N19.tif'%(lr, lr, i, i-39))\n",
    "    inputImage.append(im)\n",
    "inputImage = np.array(inputImage)\n",
    "print(inputImage.shape)"
   ]
  },
  {
   "cell_type": "code",
   "execution_count": null,
   "metadata": {},
   "outputs": [],
   "source": [
    "#plf.SetThreadFileName(\"threads.txt\")\n",
    "t1 = time.time()\n",
    "Htf = lfdeconv.BackwardProjectACC(hMatrix, inputImage, planes=None, progress=tqdm, logPrint=False, projector=projectorClass())\n",
    "t2 = time.time()\n",
    "#plf.SetThreadFileName(\"\")\n",
    "print(t2-t1)\n",
    "print(Htf.shape)"
   ]
  },
  {
   "cell_type": "code",
   "execution_count": null,
   "metadata": {},
   "outputs": [],
   "source": [
    "deconvolvedResult2 = lfdeconv.DeconvRL(hMatrix, Htf, maxIter=2, Xguess=Htf.copy(), logPrint=False, projector=projectorClass())"
   ]
  },
  {
   "cell_type": "code",
   "execution_count": null,
   "metadata": {},
   "outputs": [],
   "source": [
    "deconvolvedResult = lfdeconv.DeconvRL(hMatrix, Htf, maxIter=maxiter, Xguess=Htf.copy(), logPrint=False, projector=projectorClass())\n",
    "print(deconvolvedResult.shape)\n",
    "# For \"Right\", this is now taking 770s per iteration. elapsed wallclock time 6189.126849, rusage 47236.057507\n",
    "# It should be faster than that (I thought left previously took more like 600 or possibly 660 - for 8 frames I think)\n",
    "# What is going on?\n",
    "# 975s when processing 11 frames\n",
    "# OK, after the bug fix it's down to 450s/iter, giving these totals for 8 timepoints:\n",
    "# Deconvolution elapsed wallclock time 3631.499198, rusage 26969.383617\n",
    "# For 11 timepoints it takes about 565s/iter:\n",
    "# Deconvolution elapsed wallclock time 4595.855735, rusage 33892.436672"
   ]
  },
  {
   "cell_type": "code",
   "execution_count": null,
   "metadata": {},
   "outputs": [],
   "source": [
    "plt.imshow(np.max(deconvolvedResult, axis=0)[0])\n",
    "plt.show()\n",
    "plt.imshow(np.max(deconvolvedResult2, axis=0)[0])\n",
    "plt.show()"
   ]
  },
  {
   "cell_type": "code",
   "execution_count": null,
   "metadata": {},
   "outputs": [],
   "source": [
    "if True:\n",
    "    # Save the results\n",
    "    for i in range(deconvolvedResult.shape[1]):\n",
    "        tifffile.imsave('Data/03_Reconstructed/%s/Cam_%s_%d_X%d_N19.tif'%(lr, lr, 40+i, 1+i), \n",
    "                        deconvolvedResult[:,i].transpose((0,2,1)))# Transpose to match Matlab image appearance"
   ]
  },
  {
   "cell_type": "code",
   "execution_count": null,
   "metadata": {},
   "outputs": [],
   "source": [
    "if False:\n",
    "    # Calculate MIPs, for inspection purposes\n",
    "    for i in range(40, 51):\n",
    "        im = tifffile.imread('Data/03_Reconstructed/%s/Cam_%s_%d_X%d_N19.tif'%(lr, lr, i, i-39))\n",
    "        tifffile.imsave('Data/03_Reconstructed/z-mips-%s/Cam_%s_%d_X%d_N19.tif'%(lr, lr, i, i-39), \n",
    "                        np.max(im, axis=0))\n",
    "        tifffile.imsave('Data/03_Reconstructed/y-mips-%s/Cam_%s_%d_X%d_N19.tif'%(lr, lr, i, i-39), \n",
    "                        np.max(im, axis=1))"
   ]
  },
  {
   "cell_type": "markdown",
   "metadata": {},
   "source": [
    "### Create partial camera images by subtracting contributions of outer planes\n",
    "Forward-project contribution from planes *other* than planes 25-53 (inclusive), and subtract that from the raw camera images"
   ]
  },
  {
   "cell_type": "code",
   "execution_count": null,
   "metadata": {},
   "outputs": [],
   "source": [
    "zCropSlice = slice(25,54)\n",
    "# Reload image, to save having to recalculate it from scratch(!),\n",
    "# and mask OUT the planes we are ultimately interested in\n",
    "fullDeconvolvedResult = []\n",
    "for i in range(40, 51):\n",
    "    fullDeconvolvedResult.append(tifffile.imread('Data/03_Reconstructed/%s/Cam_%s_%d_X%d_N19.tif'%(lr, lr, i, i-39)))\n",
    "# Transpose to order as z,t,y,x (images are stored as z,x,y, to match Nils's original images)\n",
    "maskedObject = np.array(fullDeconvolvedResult).transpose((1,0,3,2)).copy()\n",
    "maskedObject[zCropSlice] = 0"
   ]
  },
  {
   "cell_type": "code",
   "execution_count": null,
   "metadata": {},
   "outputs": [],
   "source": [
    "# Forward-project the masked object\n",
    "print(maskedObject.shape)\n",
    "t1 = time.time()\n",
    "unwantedCameraImages = lfdeconv.ForwardProjectACC(hMatrix, maskedObject, planes=None, progress=tqdm, logPrint=False, projector=projectorClass())\n",
    "t2 = time.time()\n",
    "#plf.SetThreadFileName(\"\")\n",
    "print(t2-t1)\n",
    "print(unwantedCameraImages.shape)"
   ]
  },
  {
   "cell_type": "code",
   "execution_count": null,
   "metadata": {},
   "outputs": [],
   "source": [
    "# Generate new camera images without that contribution.\n",
    "# There's a risk that this will lead to negative values in the reduced camera images.\n",
    "# All I can really do is limit things at a slightly non-negative value,\n",
    "# but if there are too many negative values then that is a cause for concern.\n",
    "# In fact, conveniently, most of the negative energy is not in the crop region\n",
    "# I plan to do my initial experiments on.\n",
    "reducedCameraImages = (inputImage - unwantedCameraImages)[:,342:703,361:722]\n",
    "eps = 1e-6\n",
    "for i in range(reducedCameraImages.shape[0]):\n",
    "    negEnergy = -np.sum(reducedCameraImages[i][reducedCameraImages[i]<eps])\n",
    "    posEnergy = np.sum(reducedCameraImages[i]) + negEnergy\n",
    "    negFraction = negEnergy/posEnergy\n",
    "    print('Image %d residual pixel range %.1f - %.1f.  Negative energy %.2f%%' \n",
    "              % (i, np.min(reducedCameraImages[i]), np.max(reducedCameraImages[i]), negFraction*100))\n",
    "    reducedCameraImages[i] = np.maximum(reducedCameraImages[i], eps)"
   ]
  },
  {
   "cell_type": "markdown",
   "metadata": {},
   "source": [
    "### Do the initial deconvolution of these reduced camera images\n",
    "I am hoping that this will look pretty much idential to the equivalent crop of the original reconstructed volume.\n",
    "\n",
    "- It basically does, but there are artefacts visible around the edge and also grid-corner artefacts in the centre. These are present even in the original images, but it looks like they are a bit brighter in the cropped images. \n",
    "- I might be able to suppress the edge artefacts by adjusting the normalisation of the error ratio at the edges of the volume. I should probably try that, since the edge effects may matter in these small images.\n",
    "- I am also going to have to be very careful about the corner artefacts, because they are liable to confuse my flow warping."
   ]
  },
  {
   "cell_type": "code",
   "execution_count": null,
   "metadata": {},
   "outputs": [],
   "source": [
    "hMatrixCrop = psfmatrix.LoadMatrix('PSFmatrix/fdnormPSFMatrix_M22.2NA0.5MLPitch125fml3125from-56to56zspacing4Nnum19lambda520n1.33.mat')\n",
    "print(reducedCameraImages.shape)"
   ]
  },
  {
   "cell_type": "code",
   "execution_count": null,
   "metadata": {
    "scrolled": false
   },
   "outputs": [],
   "source": [
    "projector = projectorClass()\n",
    "projector.cacheFH = True\n",
    "t1 = time.time()\n",
    "Htf = lfdeconv.BackwardProjectACC(hMatrixCrop, reducedCameraImages, planes=None, progress=tqdm, logPrint=False, projector=projector)\n",
    "t2 = time.time()\n",
    "print(t2-t1)"
   ]
  },
  {
   "cell_type": "code",
   "execution_count": null,
   "metadata": {},
   "outputs": [],
   "source": [
    "croppedDeconvolvedResult = lfdeconv.DeconvRL(hMatrixCrop, Htf, maxIter=maxiter, Xguess=Htf.copy(), logPrint=False, projector=projector)\n",
    "print(croppedDeconvolvedResult.shape)"
   ]
  },
  {
   "cell_type": "code",
   "execution_count": null,
   "metadata": {},
   "outputs": [],
   "source": [
    "if True:\n",
    "    # Save the results\n",
    "    for i in range(croppedDeconvolvedResult.shape[1]):\n",
    "        tifffile.imsave('Data/03_Reconstructed/%s-cropped/Cam_%s_%d_X%d_N19.tif'%(lr, lr, 40+i, 1+i), \n",
    "                        croppedDeconvolvedResult[:,i].transpose((0,2,1)))# Transpose to match Matlab image appearance\n",
    "        \n",
    "    # Calculate MIPs, for inspection purposes\n",
    "    for i in range(40, 51):\n",
    "        im = tifffile.imread('Data/03_Reconstructed/%s-cropped/Cam_%s_%d_X%d_N19.tif'%(lr, lr, i, i-39))\n",
    "        tifffile.imsave('Data/03_Reconstructed/z-mips-%s-cropped/Cam_%s_%d_X%d_N19.tif'%(lr, lr, i, i-39), \n",
    "                        np.max(im, axis=0))\n",
    "        tifffile.imsave('Data/03_Reconstructed/y-mips-%s-cropped/Cam_%s_%d_X%d_N19.tif'%(lr, lr, i, i-39), \n",
    "                        np.max(im, axis=1))        "
   ]
  },
  {
   "cell_type": "code",
   "execution_count": null,
   "metadata": {},
   "outputs": [],
   "source": [
    "if True:\n",
    "    plf.SetThreadFileName(\"threads_dual_t.txt\")\n",
    "    t1 = time.time()\n",
    "    Htf = lfdeconv.BackwardProjectACC(hMatrixCrop, reducedCameraImages[9:11], logPrint=False, projector=projectorClass())\n",
    "    t2 = time.time()\n",
    "    print(t2-t1)\n",
    "    plf.SetThreadFileName(\"\")"
   ]
  },
  {
   "cell_type": "code",
   "execution_count": null,
   "metadata": {},
   "outputs": [],
   "source": [
    "print(Htf.shape)\n",
    "twoTimepoints = Htf[:,9:11]\n",
    "temp = lfdeconv.DeconvRL(hMatrixCrop, twoTimepoints, maxIter=maxiter, Xguess=twoTimepoints.copy(), logPrint=False, projectorClass=projectorClass)\n",
    "print(temp.shape)"
   ]
  },
  {
   "cell_type": "code",
   "execution_count": null,
   "metadata": {},
   "outputs": [],
   "source": []
  }
 ],
 "metadata": {
  "kernelspec": {
   "display_name": "Python 3",
   "language": "python",
   "name": "python3"
  },
  "language_info": {
   "codemirror_mode": {
    "name": "ipython",
    "version": 3
   },
   "file_extension": ".py",
   "mimetype": "text/x-python",
   "name": "python",
   "nbconvert_exporter": "python",
   "pygments_lexer": "ipython3",
   "version": "3.7.6"
  }
 },
 "nbformat": 4,
 "nbformat_minor": 2
}
