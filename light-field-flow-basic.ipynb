{
 "cells": [
  {
   "cell_type": "code",
   "execution_count": 2,
   "metadata": {},
   "outputs": [],
   "source": [
    "import numpy as np\n",
    "import scipy.ndimage\n",
    "import scipy.optimize\n",
    "import os, sys\n",
    "import matplotlib.pyplot as plt\n",
    "%matplotlib inline\n",
    "import tifffile"
   ]
  },
  {
   "cell_type": "code",
   "execution_count": 120,
   "metadata": {
    "collapsed": true
   },
   "outputs": [],
   "source": [
    "if True:\n",
    "    lensletSize = 24\n",
    "    numLenslets = 16\n",
    "else:\n",
    "    lensletSize = 32\n",
    "    numLenslets = 4\n",
    "else:\n",
    "    lensletSize = 4\n",
    "    numLenslets = 32\n",
    "    \n",
    "imageSize = numLenslets * lensletSize\n",
    "gaussianRadius = 30.0\n",
    "dx = 20\n",
    "dy = 10\n",
    "\n",
    "trivial = False"
   ]
  },
  {
   "cell_type": "code",
   "execution_count": 201,
   "metadata": {
    "collapsed": true
   },
   "outputs": [],
   "source": [
    "def CircleMask(r, samples):\n",
    "    cent = int(samples/2)\n",
    "    y,x = np.ogrid[-cent:samples-cent, -cent:samples-cent]\n",
    "    return (x*x + y*y <= r*r).astype(float)\n",
    "\n",
    "def ForwardTransform(obj):\n",
    "    # For an object, determine what the lenslet image is.\n",
    "    # We break the object up into tiles and compute each subimage separately.\n",
    "    # Because the object is an incoherent emitter, I think it is correct to treat each point separately/incoherently.\n",
    "    # The result is actually very simple I think (for a source in the native focal plane):\n",
    "    # just a uniform intensity within the lenslet footprint!\n",
    "    if trivial:\n",
    "        return obj\n",
    "    result = np.zeros(obj.shape)\n",
    "    footprint = np.ones((lensletSize, lensletSize))#CircleMask(lensletSize/2, lensletSize)\n",
    "    footprintNorm = footprint / np.sum(footprint)\n",
    "    for j in range(numLenslets):\n",
    "        for i in range(numLenslets):\n",
    "            pupil = obj[j*lensletSize:(j+1)*lensletSize, i*lensletSize:(i+1)*lensletSize]\n",
    "            # Some parts of object are genuinely not sensed by a circular lenslet array, I think?\n",
    "            # But I think weird things will happen if RL does not conserve energy,\n",
    "            # so I will assume I have square lenslet footprints.\n",
    "            subimage = footprintNorm * np.sum(pupil)\n",
    "            result[j*lensletSize:(j+1)*lensletSize, i*lensletSize:(i+1)*lensletSize] = subimage\n",
    "    return result\n",
    "\n",
    "def ReverseTransform(im):\n",
    "    # For a lenslet image, map it back to the object using the influence function\n",
    "    # We break the object up into tiles and compute each subimage separately.\n",
    "    # TODO: for now I am just doing what I suspect is correct here, but I should think about it properly!\n",
    "    if trivial:\n",
    "        return im\n",
    "    result = np.zeros(im.shape)\n",
    "    influenceFunction = np.ones((lensletSize,lensletSize))/(lensletSize**2)\n",
    "    for j in range(numLenslets):\n",
    "        for i in range(numLenslets):\n",
    "            # Light could equally have come from anywhere within the lenslet area\n",
    "            subimage = im[j*lensletSize:(j+1)*lensletSize, i*lensletSize:(i+1)*lensletSize]\n",
    "            influence = influenceFunction * np.sum(subimage)\n",
    "            result[j*lensletSize:(j+1)*lensletSize, i*lensletSize:(i+1)*lensletSize] = influence\n",
    "    return result\n",
    "\n",
    "\n",
    "def RollNoninteger(obj, amount, axis=0):\n",
    "    intAmount = int(amount)\n",
    "    frac = amount - intAmount\n",
    "    result1 = np.roll(obj, intAmount, axis=axis)\n",
    "    result2 = np.roll(obj, intAmount+1, axis=axis)\n",
    "    return result1 * (1-frac) + result2 * frac\n",
    "    \n",
    "def ShiftObject(obj, shiftYX, direction=1):\n",
    "    # TODO: We need to worry about conserving energy during the shift. \n",
    "    # For now I will do a circular shift in order to avoid having to worry about this!\n",
    "    result = RollNoninteger(obj, shiftYX[0]*direction, axis=0)\n",
    "    return RollNoninteger(result, shiftYX[1]*direction, axis=1)\n",
    "\n",
    "def ForwardTransform2(obj, shiftYX):\n",
    "    # Compute the AB images obtained from the object (B image shifted by shiftYX).\n",
    "    # We give each image half the intensity in order to conserve energy.\n",
    "    imA = ForwardTransform(obj) / 2.0\n",
    "    imB = ForwardTransform(ShiftObject(obj, shiftYX)) / 2.0\n",
    "    return np.array([imA, imB])\n",
    "\n",
    "def ReverseTransform2(imAB, shiftYX):\n",
    "    # Compute the reverse transform given the AB images (B image shifted by shiftYX).\n",
    "    # The reverse transform for A is easily computed\n",
    "    objFromA = ReverseTransform(imAB[0])\n",
    "    # The reverse transform for B requires us to reverse the shift that B underwent\n",
    "    shiftedObjFromB = ReverseTransform(imAB[1])\n",
    "    objFromB = ShiftObject(shiftedObjFromB, shiftYX, -1)\n",
    "    # I have persuaded myself that to make the operation match the transpose of the forward operation,\n",
    "    # I need to divide by 2 here\n",
    "    return (objFromA + objFromB) / 2.0\n",
    "\n",
    "    \n",
    "def RL1(image, iterations=20, im_deconv=None):\n",
    "    # Faster implementation of restoration.richardson_lucy that uses fftconvolve.\n",
    "    # Why would they not do that by default!?\n",
    "    # Code is just taken from scipy with the convolution call changed\n",
    "    image = image.astype(np.float)\n",
    "    if im_deconv is None:\n",
    "        im_deconv = 0.5 * np.ones(image.shape)\n",
    "    for _ in range(iterations):\n",
    "        relative_blur = image / ForwardTransform(im_deconv)\n",
    "        im_deconv *= ReverseTransform(relative_blur)\n",
    "    return im_deconv\n",
    "\n",
    "def RL2(imageAB, shiftYX, iterations=10, im_deconv=None):\n",
    "    # Faster implementation of restoration.richardson_lucy that uses fftconvolve.\n",
    "    # Why would they not do that by default!?\n",
    "    # Code is just taken from scipy with the convolution call changed\n",
    "    if im_deconv is None:\n",
    "        im_deconv = 0.5 * np.ones((imageAB.shape[1],imageAB.shape[2]))\n",
    "    for _ in range(iterations):\n",
    "        relative_blur = imageAB / ForwardTransform2(im_deconv, shiftYX)\n",
    "        im_deconv *= ReverseTransform2(relative_blur, shiftYX)\n",
    "    return im_deconv"
   ]
  },
  {
   "cell_type": "code",
   "execution_count": 99,
   "metadata": {
    "collapsed": true
   },
   "outputs": [],
   "source": [
    "# Generate initial object\n",
    "cent = imageSize/2\n",
    "y,x = np.ogrid[-cent:imageSize-cent, -cent:imageSize-cent]\n",
    "shiftYX = (dy,dx)\n",
    "objA = np.exp(-(x**2 + y**2)/gaussianRadius**2)\n",
    "objB = ShiftObject(objA, shiftYX)#np.exp(-((x-dx)**2 + (y-dy)**2)/gaussianRadius**2)"
   ]
  },
  {
   "cell_type": "code",
   "execution_count": 233,
   "metadata": {
    "scrolled": false
   },
   "outputs": [
    {
     "data": {
      "image/png": "[encoded data removed]",
      "text/plain": [
       "<Figure size 432x288 with 1 Axes>"
      ]
     },
     "metadata": {
      "needs_background": "light"
     },
     "output_type": "display_data"
    },
    {
     "name": "stdout",
     "output_type": "stream",
     "text": [
      "(0.9735685970661567, 1.0)\n"
     ]
    }
   ],
   "source": [
    "# Look at what the deconvolved result looks like for different shifts.\n",
    "# I am imagining that, for some shifts at least, I manage to recover a better image than if I only had access to imA.\n",
    "\n",
    "#for shiftYX in [[0,0], [10,10], [8,0]]:\n",
    "for dx in [6]:#range(0,16):\n",
    "    shiftYX = (dx,dx)\n",
    "    imageAB = ForwardTransform2(objA, shiftYX)\n",
    "    result = RL2(imageAB, shiftYX, iterations=10)\n",
    "    plt.imshow(result)\n",
    "    plt.show()"
   ]
  },
  {
   "cell_type": "code",
   "execution_count": null,
   "metadata": {
    "collapsed": true
   },
   "outputs": [],
   "source": []
  },
  {
   "cell_type": "code",
   "execution_count": 190,
   "metadata": {
    "collapsed": true,
    "scrolled": true
   },
   "outputs": [],
   "source": [
    "# Test whether we can identify the correct shift by trying different candidate shifts\n",
    "bestScores = np.zeros((0,2))\n",
    "\n",
    "def SubsampledMinimum(arr):\n",
    "    pos = np.argmin(arr)\n",
    "    if ((pos > 0) and (pos < (arr.shape[0]-1))):\n",
    "        cl = arr[pos-1]\n",
    "        c = arr[pos]\n",
    "        cr = arr[pos+1]\n",
    "        return pos + (cl-cr)/float(2*cl-4*c+2*cr)\n",
    "    return pos\n",
    "    \n",
    "def GenerateJointDeconvolutionForComparison(imageAB, candidateShiftsYX):\n",
    "    resultList = []\n",
    "    for yxCand in candidateShiftsYX:\n",
    "        # Deconvolve to obtain our best joint estimate of the object\n",
    "        result = RL2(imageAB, yxCand)\n",
    "        resultList.append([yxCand, result])\n",
    "    return resultList\n",
    "\n",
    "def GenerateSeparateDeconvolutionsForComparison(imageAB, dxCands):\n",
    "    # Deconvolve the A and B images separately\n",
    "    scores = np.zeros((0,2))\n",
    "    resultA = RL(imageAB[0])\n",
    "    resultB = RL(imageAB[1])\n",
    "    # Build a list for comparison that involves all the candidate shifts of B\n",
    "    resultList = []\n",
    "    for dxCand in dxCands:\n",
    "        candidateShiftYX = (0, dxCand)\n",
    "        resultList.append([candidateShiftYX, resultA, ShiftObject(resultB, candidateShiftYX, -1)])\n",
    "    return resultList"
   ]
  },
  {
   "cell_type": "code",
   "execution_count": null,
   "metadata": {
    "collapsed": true
   },
   "outputs": [],
   "source": [
    "trueShifts = range(32+1)\n",
    "# Generate all the candidate result objects for different shifts\n",
    "#jointDeconvResults = []\n",
    "separateDeconvResults = []\n",
    "for dxTrue in trueShifts:\n",
    "    trueShiftYX = (0, dxTrue)\n",
    "    imageAB = ForwardTransform2(objA, trueShiftYX)\n",
    "    results = GenerateJointDeconvolutionForComparison(imageAB, dxCands=range(32))\n",
    "    jointDeconvResults.append(results)\n",
    "    results = GenerateSeparateDeconvolutionsForComparison(imageAB, dxCands=range(32))\n",
    "    separateDeconvResults.append(results)    "
   ]
  },
  {
   "cell_type": "code",
   "execution_count": 188,
   "metadata": {},
   "outputs": [
    {
     "data": {
      "image/png": "[encoded data removed]",
      "text/plain": [
       "<Figure size 432x288 with 1 Axes>"
      ]
     },
     "metadata": {
      "needs_background": "light"
     },
     "output_type": "display_data"
    }
   ],
   "source": [
    "def Centroid(im):\n",
    "    result = scipy.ndimage.measurements.center_of_mass(im)\n",
    "    return result[1]\n",
    "\n",
    "# Evaluate the result objects to compute the estimated shifts\n",
    "bestScores = []\n",
    "for dxTrue in trueShifts:\n",
    "    trueShiftYX = (0, dxTrue)\n",
    "    imageAB = ForwardTransform2(objA, trueShiftYX)\n",
    "    scores = np.zeros((0,6))\n",
    "    for (candidateShiftYX, thisObj) in jointDeconvResults[dxTrue]:\n",
    "        # Generate the image that would be obtained from this recovered object\n",
    "        candidateImage = ForwardTransform2(thisObj, candidateShiftYX)\n",
    "        # Evaluate the match using SSD\n",
    "        ssdScore = np.sum((candidateImage - imageAB)**2)\n",
    "        # Evaluate the match using SAD\n",
    "        sadScore = np.sum(np.abs(candidateImage - imageAB))\n",
    "        thisRow = np.array([[candidateShiftYX[1], ssdScore, sadScore, 0, 0, 0]])\n",
    "        scores = np.append(scores, thisRow, axis=0)\n",
    "    i = 0\n",
    "    for (candidateShiftYX, thisObjA, thisObjB) in separateDeconvResults[dxTrue]:\n",
    "        # Evaluate the match using SSD\n",
    "        ssdScore = np.sum((thisObjA - thisObjB)**2)\n",
    "        # Evaluate the match using SAD\n",
    "        sadScore = np.sum(np.abs(thisObjA - thisObjB))\n",
    "        scores[i,3] = ssdScore\n",
    "        scores[i,4] = sadScore\n",
    "        i = i+1\n",
    "    centroidShift = Centroid(separateDeconvResults[dxTrue][0][2]) - Centroid(separateDeconvResults[dxTrue][0][1])\n",
    "    bestScores.append([dxTrue, SubsampledMinimum(scores[:,1]), SubsampledMinimum(scores[:,2]), SubsampledMinimum(scores[:,3]), SubsampledMinimum(scores[:,4]), centroidShift])\n",
    "    \n",
    "bestScores = np.array(bestScores)\n",
    "plt.plot(bestScores[:,0], bestScores[:,1], label='joint ssd')\n",
    "plt.plot(bestScores[:,0], bestScores[:,2], label='joint sad')\n",
    "plt.plot(bestScores[:,0], bestScores[:,3], label='simple ssd')\n",
    "plt.plot(bestScores[:,0], bestScores[:,4], label='simple sad')\n",
    "plt.plot(bestScores[:,0], bestScores[:,5], label='centroid shift')\n",
    "plt.legend()\n",
    "plt.show()\n",
    "# Note that the centroid does not work correctly in this case because I do a circular roll.\n",
    "# It will be interesting to look at if I get to a point where I do a proper translation rather than a circular roll"
   ]
  },
  {
   "cell_type": "code",
   "execution_count": null,
   "metadata": {
    "collapsed": true
   },
   "outputs": [],
   "source": []
  },
  {
   "cell_type": "code",
   "execution_count": null,
   "metadata": {
    "collapsed": true,
    "scrolled": true
   },
   "outputs": [],
   "source": []
  },
  {
   "cell_type": "markdown",
   "metadata": {},
   "source": [
    "OK so, as I had hoped, the results are massively better if I do a joint recovery and look for the best-matching shift.\n",
    "\n",
    "For now I think I have proved the basic point to myself that the block artefacts in the native focal plane will completely screw a PIV analysis, and that I do seem to have a plausible (if slow) solution to the issue.\n",
    "\n",
    "It's pretty slow though (even though I only need a small number of RL iterations). A 2D velocity search would be even slower, of course. The feasibility of this will depend a lot on whether there is a more efficient way to do a joint optimization of the object and the velocity. That would require considerably more investigation and trialling.\n",
    "\n",
    "-> But actually: I can optimize over the velocity but, for a given velocity field, use the RL to solve for the object. That will still be slow, but it should be manageable I think - and aided by the fact that there should be only weak coupling between the different velocity values. Also, from what I have seen so far, it looks as if the velocity solution is a mostly convex problem.\n",
    "\n",
    "With a full velocity field, the one thing I will need to think about is how to handle the IWs etc:\n",
    "\n",
    "(1) Adjacent IWs will have different flows, but I need to generate a smoothly transformed object. I can decide to define the velocity in the B frame or the A frame. If I define in the A frame then each A frame voxel moves to a (noninteger) location in the B frame and its intensity is spread appropriately between the overlapping destination voxels. That will conserve energy, and I think any risk of \"gaps\" is very small (any scenario that gives that is unlikely to represent a sensible flow field anyway I think). If I define it in the B frame then I don't have voids but won't conserve energy, which I think would be a big problem for the RL.\n",
    "\n",
    "(2) I worry slightly that by interpolating I am blurring out the object and therefore compromising the calculation. However, I think in principle any concern there can be overcome by increasing the sampling of the object we are trying to recover.\n",
    "\n",
    "(3) A pertinent, and I suspect hard-to-answer, question is whether the recovered flow vector is definitely the correct solution or might be a false local (or even global) minimum. I suspect that both with light field and with heavily compressive type modalities, there might be quite a lot of flexibility in recovered objects that satisfy the constraints. But would there really be a different object *and a different associated flow field* that satisfies the constraints? To answer that question it really comes down to how thoroughly you can map out the space of possible flow fields. From what I have seen so far, it seems quite convex with one clear minimum. It's possible that's not so much the case with highly compressive measurements. (And what about our double RL...!?)\n",
    "\n",
    "Note that as well as working with single-pixel imaging, this ought to permit tracking in compressed image files e.g. jpg, low-bitrate mpeg. (In discussion text I should include temporal coding e.g. Laura Waller FOM talk)\n",
    "\n",
    "n.b. I should revisit the number of iterations I am using. Maximum value in the result array does gradually stabilize over iterations 10-40, even if visually I don't see a huge difference. I should look in more detail at how the image is converging, and think about number of iterations..."
   ]
  },
  {
   "cell_type": "code",
   "execution_count": 215,
   "metadata": {
    "scrolled": false
   },
   "outputs": [
    {
     "name": "stdout",
     "output_type": "stream",
     "text": [
      "('shift', array([11.00006583,  5.35507403]), 'for actual shift', (10, 4))\n",
      "('shift', array([0., 0.]), 'for actual shift', (0, 0))\n",
      "('shift', array([-133.40275936,   16.81380401]), 'for actual shift', (-4, 17))\n",
      "('shift', array([ 2.90987348, -8.3801063 ]), 'for actual shift', (2, -7))\n"
     ]
    }
   ],
   "source": [
    "def ScoreShift(candidateShiftYX, imageAB):\n",
    "    res = GenerateJointDeconvolutionForComparison(imageAB, [candidateShiftYX])\n",
    "    obj = res[0][1]\n",
    "    candidateImage = ForwardTransform2(obj, candidateShiftYX)\n",
    "    # Evaluate the match using SSD\n",
    "    ssdScore = np.sum((candidateImage - imageAB)**2)\n",
    "    #print('return', ssdScore, 'for', candidateShiftYX)\n",
    "    return ssdScore\n",
    "\n",
    "actualShifts = [(10,4), (0,0), (-4,17), (2,-7)]\n",
    "for actualShift in actualShifts:\n",
    "    # Generate an image pair based on a chosen shift transform\n",
    "    imageAB = ForwardTransform2(objA, actualShift)\n",
    "    # Optimize to obtain the best-matching shift\n",
    "    shift = scipy.optimize.minimize(ScoreShift, (0,0), args=(imageAB))\n",
    "    print('shift', shift['x'], 'for actual shift', actualShift)"
   ]
  },
  {
   "cell_type": "code",
   "execution_count": 227,
   "metadata": {},
   "outputs": [
    {
     "name": "stdout",
     "output_type": "stream",
     "text": [
      "('shift', array([10.88857709,  5.04209291]), 'for actual shift', (10, 4))\n",
      "('shift', array([ 0.11184558, -0.00154154]), 'for actual shift', (0, 0))\n",
      "('shift', array([-5.96857397,  0.85743904]), 'for actual shift', (-4, 17))\n",
      "('shift', array([ 3.60202288, -7.96942834]), 'for actual shift', (2, -7))\n"
     ]
    }
   ],
   "source": [
    "# Repeat with some noise added.\n",
    "# For the most part it seems surprisingly tolerant of noisy images,\n",
    "# although I suppose the smearing over a lenslet footprint smooths out the noise quite a lot\n",
    "for actualShift in actualShifts:\n",
    "    # Generate an image pair based on a chosen shift transform\n",
    "    imageAB = np.random.poisson(ForwardTransform2(objA, actualShift) * 15)\n",
    "    # Optimize to obtain the best-matching shift\n",
    "    shift = scipy.optimize.minimize(ScoreShift, (0,0), args=(imageAB))\n",
    "    print('shift', shift['x'], 'for actual shift', actualShift)"
   ]
  },
  {
   "cell_type": "code",
   "execution_count": null,
   "metadata": {
    "collapsed": true
   },
   "outputs": [],
   "source": []
  },
  {
   "cell_type": "code",
   "execution_count": null,
   "metadata": {
    "collapsed": true
   },
   "outputs": [],
   "source": []
  }
 ],
 "metadata": {
  "kernelspec": {
   "display_name": "Python 3",
   "language": "python",
   "name": "python3"
  },
  "language_info": {
   "codemirror_mode": {
    "name": "ipython",
    "version": 3
   },
   "file_extension": ".py",
   "mimetype": "text/x-python",
   "name": "python",
   "nbconvert_exporter": "python",
   "pygments_lexer": "ipython3",
   "version": "3.5.4"
  }
 },
 "nbformat": 4,
 "nbformat_minor": 2
}
