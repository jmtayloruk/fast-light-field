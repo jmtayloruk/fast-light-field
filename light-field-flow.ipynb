{
 "cells": [
  {
   "cell_type": "code",
   "execution_count": 1,
   "metadata": {},
   "outputs": [],
   "source": [
    "import numpy as np\n",
    "import scipy.ndimage, scipy.optimize, scipy.io\n",
    "from scipy.ndimage.filters import convolve\n",
    "from scipy.signal import convolve2d, fftconvolve\n",
    "import os, sys, time, warnings\n",
    "import matplotlib.pyplot as plt\n",
    "%matplotlib inline\n",
    "import tifffile\n",
    "import h5py\n",
    "from multiprocessing import Pool\n",
    "from functools import partial\n",
    "from joblib import Parallel, delayed\n",
    "import cProfile, pstats\n",
    "from tqdm import tqdm_notebook as tqdm"
   ]
  },
  {
   "cell_type": "code",
   "execution_count": 2,
   "metadata": {},
   "outputs": [
    {
     "name": "stderr",
     "output_type": "stream",
     "text": [
      "/anaconda2/lib/python2.7/site-packages/ipykernel_launcher.py:3: UserWarning: WARNING: Switched to faster matrix for testing\n",
      "  This is separate from the ipykernel package so we can avoid doing imports until\n"
     ]
    }
   ],
   "source": [
    "matPath = 'PSFmatrix/PSFmatrix_M22.2NA0.5MLPitch125fml3125from-110to110zspacing4Nnum19lambda520n1.33.mat'\n",
    "\n",
    "warnings.warn('WARNING: Switched to faster matrix for testing')\n",
    "matPath = 'PSFmatrix/PSFmatrix_M40NA0.95MLPitch150fml3000from-26to0zspacing2Nnum15lambda520n1.0.mat'"
   ]
  },
  {
   "cell_type": "code",
   "execution_count": 3,
   "metadata": {
    "scrolled": true
   },
   "outputs": [
    {
     "name": "stdout",
     "output_type": "stream",
     "text": [
      "Load H\n",
      "Load Ht\n",
      "Load misc\n",
      "(dtype('<f4'), (14, 15, 15, 391, 391), (14, 15, 15, 391, 391), (2, 14))\n",
      "[[  1 391]\n",
      " [ 16 376]\n",
      " [ 31 361]\n",
      " [ 46 346]\n",
      " [ 61 331]\n",
      " [ 76 316]\n",
      " [ 91 301]\n",
      " [106 286]\n",
      " [121 271]\n",
      " [136 256]\n",
      " [151 241]\n",
      " [166 226]\n",
      " [166 226]\n",
      " [166 226]]\n"
     ]
    }
   ],
   "source": [
    "# Load the matrices from the .mat file.\n",
    "# This is slow since they must be decompressed and are rather large! (9.5GB each, in single-precision FP)\n",
    "with h5py.File(matPath, 'r') as f:\n",
    "    print('Load H')\n",
    "    sys.stdout.flush()\n",
    "    H = f['H'].value\n",
    "    print('Load Ht')\n",
    "    sys.stdout.flush()\n",
    "    Ht = f['Ht'].value\n",
    "    print('Load misc')\n",
    "    sys.stdout.flush()\n",
    "    CAindex = f['CAindex'].value.astype('int')\n",
    "\n",
    "print(H.dtype, H.shape, Ht.shape, CAindex.shape)\n",
    "print(CAindex.transpose())"
   ]
  },
  {
   "cell_type": "markdown",
   "metadata": {},
   "source": [
    "## Objects stored in the .mat file\n",
    "\n",
    "### Optical parameters from GUI: [? means I am not sure if or where it is stored]\n",
    "\n",
    "M<br>\n",
    "NA<br>\n",
    "d    \"fml\" in GUI (stored here in units of m)<br>\n",
    "pixelPitch is \"ML pitch\" / \"Nnum\" (stored here in units of m)<br>\n",
    "? n<br>\n",
    "? wavelength<br>\n",
    "\n",
    "### User parameters from GUI:\n",
    "\n",
    "OSR<br>\n",
    "zspacing<br>\n",
    "? z-min<br>\n",
    "? z-max<br>\n",
    "Nnum<br>\n",
    "\n",
    "\n",
    "### Misc parameter:\n",
    "\n",
    "fobj (can presumably be deduced from mag, NA etc?)<br>\n",
    "\n",
    "### The actual arrays:\n",
    "\n",
    "H:             shape (56, 19, 19, 343, 343), type \"f4\"<br>\n",
    "Ht:            shape (56, 19, 19, 343, 343), type \"f4\"<br>\n",
    "\n",
    "### Information about object space:\n",
    "\n",
    "x1objspace:    x pixel positions in object space (19 elements across one lenslet)<br>\n",
    "x2objspace:    y pixel positions in object space (19 elements across one lenslet)<br>\n",
    "x3objspace:    z pixel positions in object space (56 z planes)<br>\n",
    "x1space:       x pixel positions in lenslet space (19 elements across one lenslet)<br>\n",
    "x2space:       y pixel positions in lenslet space (19 elements across one lenslet)<br>\n",
    "\n",
    "### Not sure what these are exactly:\n",
    "\n",
    "CAindex:       shape (2, 56) - something about the start and end index of the PSF array, for each z plane.<br>\n",
    "CP:            shape (343, 1)<br>\n",
    "MLARRAY:       shape (1141, 1141), type \"|V16\"<br>\n",
    "objspace:      shape (56, 1, 1)<br>\n",
    "settingPSF:    You would think this contains the GUI parameters, but e.g. print(f['settingPSF']['M'].value) gives a strange 3x1 array [50, 50, 46, 50] etc...?<br>\n"
   ]
  },
  {
   "cell_type": "code",
   "execution_count": 4,
   "metadata": {},
   "outputs": [],
   "source": [
    "# Note: I am a little unsure how to interpret the arrays I have loaded from the .mat.\n",
    "# From looking at how H and CAindex are accessed, it looks as if the shapes I have loaded\n",
    "# are the reversal of the shape ordering as expected in Matlab.\n",
    "# I suppose that makes sense given that matlab is column-major in its array accesses.\n",
    "# The data has been loaded from disk in the order it is *stored*,\n",
    "# and I therefore need to flip around all the matlab array index ordering \n",
    "# (e.g. matlabArray(1,2,3) becomes pythonArray[3,2,1])"
   ]
  },
  {
   "cell_type": "code",
   "execution_count": null,
   "metadata": {},
   "outputs": [
    {
     "data": {
      "application/vnd.jupyter.widget-view+json": {
       "model_id": "7d9d4673afa14ccda6a081f39d085702",
       "version_major": 2,
       "version_minor": 0
      },
      "text/plain": [
       "SEJveChjaGlsZHJlbj0oSW50UHJvZ3Jlc3ModmFsdWU9MCwgZGVzY3JpcHRpb249dSd5JywgbWF4PTUsIHN0eWxlPVByb2dyZXNzU3R5bGUoZGVzY3JpcHRpb25fd2lkdGg9dSdpbml0aWFsJynigKY=\n"
      ]
     },
     "metadata": {},
     "output_type": "display_data"
    }
   ],
   "source": [
    "from scipy._lib._version import NumpyVersion\n",
    "from numpy.fft import fft, fftn, rfft, rfftn, irfftn\n",
    "_rfft_mt_safe = (NumpyVersion(np.__version__) >= '1.9.0.dev-e24486e')\n",
    "\n",
    "def _next_regular(target):\n",
    "    \"\"\"\n",
    "    Find the next regular number greater than or equal to target.\n",
    "    Regular numbers are composites of the prime factors 2, 3, and 5.\n",
    "    Also known as 5-smooth numbers or Hamming numbers, these are the optimal\n",
    "    size for inputs to FFTPACK.\n",
    "\n",
    "    Target must be a positive integer.\n",
    "    \"\"\"\n",
    "    if target <= 6:\n",
    "        return target\n",
    "\n",
    "    # Quickly check if it's already a power of 2\n",
    "    if not (target & (target-1)):\n",
    "        return target\n",
    "\n",
    "    match = float('inf')  # Anything found will be smaller\n",
    "    p5 = 1\n",
    "    while p5 < target:\n",
    "        p35 = p5\n",
    "        while p35 < target:\n",
    "            # Ceiling integer division, avoiding conversion to float\n",
    "            # (quotient = ceil(target / p35))\n",
    "            quotient = -(-target // p35)\n",
    "\n",
    "            # Quickly find next power of 2 >= quotient\n",
    "            try:\n",
    "                p2 = 2**((quotient - 1).bit_length())\n",
    "            except AttributeError:\n",
    "                # Fallback for Python <2.7\n",
    "                p2 = 2**(len(bin(quotient - 1)) - 2)\n",
    "\n",
    "            N = p2 * p35\n",
    "            if N == target:\n",
    "                return N\n",
    "            elif N < match:\n",
    "                match = N\n",
    "            p35 *= 3\n",
    "            if p35 == target:\n",
    "                return p35\n",
    "        if p35 < match:\n",
    "            match = p35\n",
    "        p5 *= 5\n",
    "        if p5 == target:\n",
    "            return p5\n",
    "    if p5 < match:\n",
    "        match = p5\n",
    "    return match\n",
    "\n",
    "def _centered(arr, newsize):\n",
    "    # Return the center newsize portion of the array.\n",
    "    newsize = np.asarray(newsize)\n",
    "    currsize = np.array(arr.shape)\n",
    "    startind = (currsize - newsize) // 2\n",
    "    endind = startind + newsize\n",
    "    myslice = [slice(startind[k], endind[k]) for k in range(len(endind))]\n",
    "    return arr[tuple(myslice)]\n",
    "\n",
    "def tempMul(bb,fshape,result):\n",
    "    result *= np.exp(-1j * bb * 2*np.pi / fshape[0] * np.arange(result.shape[0]))[:,np.newaxis]\n",
    "    return result\n",
    "\n",
    "def expand2(result, bb, aa, Nnum, fshape):\n",
    "    return np.tile(result, (Nnum,1))\n",
    "\n",
    "def expand(reducedF, bb, aa, Nnum, fshape):\n",
    "    result = np.tile(reducedF, (1,Nnum/2+1))\n",
    "    result = result[:,:fshape[1]/2+1]\n",
    "    result *= np.exp(-1j * aa * 2*np.pi / fshape[1] * np.arange(result.shape[1]))\n",
    "    result = expand2(result, bb, aa, Nnum, fshape)\n",
    "    return tempMul(bb,fshape,result)\n",
    "\n",
    "\n",
    "def special_rfftn(in1, bb, aa, Nnum, fshape):\n",
    "    # Compute the fft of elements in1[bb::Nnum,aa::Nnum], after in1 has been zero-padded out to fshape\n",
    "    # We exploit the fact that fft(masked-in1) is fft(arr[::Nnum,::Nnum]) replicated Nnum times.\n",
    "    reducedShape = ()\n",
    "    for d in fshape:\n",
    "        assert((d % Nnum) == 0)\n",
    "        reducedShape = reducedShape + (int(d/Nnum),)\n",
    "        \n",
    "    assert(in1.ndim == 2)\n",
    "    reduced = in1[bb::Nnum,aa::Nnum]\n",
    "\n",
    "    if True:\n",
    "        # Compute an array giving rfft(mask(in1))\n",
    "        reducedF = fftn(reduced, reducedShape)\n",
    "        return expand(reducedF, bb, aa, Nnum, fshape)\n",
    "        # Old code for reference - but I broke it out into expand() to aid in profiling\n",
    "        result = np.tile(reducedF, (1,Nnum/2+1))\n",
    "        result = result[:,:fshape[1]/2+1]\n",
    "        result *= np.exp(-1j * aa * 2*np.pi / fshape[1] * np.arange(result.shape[1]))\n",
    "        result = np.tile(result, (Nnum,1))\n",
    "        result *= np.exp(-1j * bb * 2*np.pi / fshape[0] * np.arange(result.shape[0]))[:,np.newaxis]\n",
    "        targetLength = int(fshape[1]/2)+1\n",
    "        return result[:,:targetLength]\n",
    "#        return tempMul(bb,fshape,result)\n",
    "\n",
    "    else:\n",
    "        # Compute an array giving fft(mask(in1)) (instead of rfft) - much more straightforward!\n",
    "        reps = ()\n",
    "        for d in fshape:\n",
    "            reps = reps + (Nnum,)\n",
    "        return np.tile(reducedF, reps)\n",
    "    \n",
    "def special_fftconvolve_part1(in1, bb, aa, Nnum, in2, newMethod=True):\n",
    "    s1 = np.array(in1.shape)\n",
    "    s2 = np.array(in2.shape)\n",
    "    shape = s1 + s2 - 1\n",
    "    if False:\n",
    "        # TODO: I haven't worked out if/how I can do this yet.\n",
    "        # This is the original code in fftconvolve, which says:\n",
    "        # Speed up FFT by padding to optimal size for FFTPACK\n",
    "        fshape = [_next_regular(int(d)) for d in shape]\n",
    "    else:\n",
    "        fshape = [int(np.ceil(d/float(Nnum)))*Nnum for d in shape]\n",
    "    fslice = tuple([slice(0, int(sz)) for sz in shape])\n",
    "    # Pre-1.9 NumPy FFT routines are not threadsafe - this code requires numpy 1.9 or greater\n",
    "    assert(_rfft_mt_safe)\n",
    "\n",
    "    if newMethod:\n",
    "        fa = special_rfftn(in1, bb, aa, Nnum, fshape)\n",
    "    else:\n",
    "        tempSlice = np.zeros(in1.shape, dtype=in1.dtype)\n",
    "        tempSlice[bb::Nnum, aa::Nnum] = in1[bb::Nnum, aa::Nnum]\n",
    "        fa = rfftn(tempSlice, fshape)\n",
    "    return (fa, fshape, fslice, s1)\n",
    "\n",
    "def special_fftconvolve_part3(fab, fshape, fslice, s1):\n",
    "    ret = irfftn(fab, fshape)[fslice].copy()\n",
    "    return _centered(ret, s1)\n",
    "\n",
    "def special_fftconvolve(in1, bb, aa, Nnum, in2, newMethod=True):\n",
    "    '''\n",
    "    in1 consists of subapertures of size Nnum x Nnum pixels.\n",
    "    We are being asked to convolve only pixel (bb,aa) within each subaperture, i.e.\n",
    "        tempSlice = np.zeros(in1.shape, dtype=in1.dtype)\n",
    "        tempSlice[bb::Nnum, aa::Nnum] = in1[bb::Nnum, aa::Nnum]\n",
    "    This allows us to take a significant shortcut in computing the FFT for in1.\n",
    "    '''\n",
    "    (fa, fshape, fslice, s1) = special_fftconvolve_part1(in1, bb, aa, Nnum, in2, newMethod=newMethod)\n",
    "    fb = rfftn(in2, fshape)\n",
    "    if newMethod:\n",
    "        return (fa*fb, fshape, fslice, s1)\n",
    "    else:\n",
    "        return special_fftconvolve_part3(fa*fb, fshape, fslice, s1)\n",
    "\n",
    "\n",
    "testHtCC = np.random.random((5,5,30,30))\n",
    "testProjection = np.random.random((200,200))\n",
    "testResultOld = backwardProjectForZ_old(testHtCC, testProjection)\n",
    "testResultNew = backwardProjectForZ(testHtCC, testProjection)\n",
    "print('test match:', np.max(np.abs(testResultOld - testResultNew)))"
   ]
  },
  {
   "cell_type": "code",
   "execution_count": null,
   "metadata": {},
   "outputs": [],
   "source": []
  },
  {
   "cell_type": "code",
   "execution_count": 6,
   "metadata": {},
   "outputs": [],
   "source": [
    "# Note: H.shape in python is (<num z planes>, Nnum, Nnum, <psf size>, <psf size>),\n",
    "#                       e.g. (56, 19, 19, 343, 343)\n",
    "\n",
    "def forwardProjectForZ_old(HCC, realspaceCC):\n",
    "    # Iterate over each lenslet pixel\n",
    "    Nnum = H.shape[2]\n",
    "    TOTALprojection = np.zeros((realspaceCC.shape[0], realspaceCC.shape[1]), dtype='float32');\n",
    "    for bb in tqdm(range(Nnum), leave=False, desc='Forward-project - y'):\n",
    "        for aa in tqdm(range(Nnum), leave=False, desc='Forward-project - x'):\n",
    "            # Extract the part of H that represents this lenslet pixel\n",
    "            Hs = HCC[bb, aa]\n",
    "            # Create a workspace representing just the voxels cc,bb,aa behind each lenslet (the rest is 0)\n",
    "            tempspace = np.zeros((realspaceCC.shape[0], realspaceCC.shape[1]), dtype='float32');\n",
    "            tempspace[bb::Nnum, aa::Nnum] = realspaceCC[bb::Nnum, aa::Nnum]  # ???? what to do about index ordering?\n",
    "            # Compute how those voxels project onto the sensor, and accumulate\n",
    "            TOTALprojection += conv2(tempspace, Hs, 'same')\n",
    "    return TOTALprojection\n",
    "    \n",
    "def forwardProjectForZ(HCC, realspaceCC):\n",
    "    # Iterate over each lenslet pixel\n",
    "    Nnum = H.shape[2]\n",
    "    TOTALprojection = None\n",
    "    for bb in tqdm(range(Nnum), leave=False, desc='Forward-project - y'):\n",
    "        for aa in tqdm(range(Nnum), leave=False, desc='Forward-project - x'):\n",
    "            # Extract the part of H that represents this lenslet pixel\n",
    "            Hs = HCC[bb, aa]\n",
    "            # Create a workspace representing just the voxels cc,bb,aa behind each lenslet (the rest is 0)\n",
    "            tempspace = np.zeros((realspaceCC.shape[0], realspaceCC.shape[1]), dtype='float32');\n",
    "            tempspace[bb::Nnum, aa::Nnum] = realspaceCC[bb::Nnum, aa::Nnum]  # ???? what to do about index ordering?\n",
    "            # Compute how those voxels project onto the sensor, and accumulate\n",
    "            (fab, fshape, fslice, s1) = conv2(tempspace, Hs, 'same')\n",
    "            if (TOTALprojection is None):\n",
    "                TOTALprojection = fab\n",
    "            else:\n",
    "                TOTALprojection += fab\n",
    "    return special_fftconvolve_part3(TOTALprojection, fshape, fslice, s1)\n",
    "    \n",
    "\n",
    "def backwardProjectForZ(HtCC, projection):\n",
    "    tempSliceBack = None\n",
    "    # Iterate over each lenslet pixel\n",
    "    Nnum = HtCC.shape[1]\n",
    "    for aa in tqdm(range(int((Nnum+1)/2)), leave=False, desc='y'):\n",
    "        for bb in tqdm(range(aa,int((Nnum+1)/2)), leave=False, desc='x'):    \n",
    "            # Extract the part of Ht that represents this lenslet pixel\n",
    "            Hts = HtCC[bb, aa]\n",
    "            (fab, fshape, fslice, s1) = special_fftconvolve(projection, bb, aa, Nnum, Hts)\n",
    "            if (tempSliceBack is None):\n",
    "                tempSliceBack = fab\n",
    "            else:\n",
    "                tempSliceBack += fab\n",
    "    return special_fftconvolve_part3(tempSliceBack, fshape, fslice, s1)\n",
    "\n",
    "\n",
    "def forwardProjectACC(H, realspace, CAindex):\n",
    "    x3length = realspace.shape[0]\n",
    "    TOTALprojection = np.zeros((realspace.shape[1], realspace.shape[2]), dtype='float32')\n",
    "    # Iterate over each z plane\n",
    "    if True:\n",
    "        # Single-threaded over z\n",
    "        for cc in tqdm(range(x3length), desc='Forward-project - z'):\n",
    "            HCC = H[cc, :, :, CAindex[0,cc]-1:CAindex[1,cc], CAindex[0,cc]-1:CAindex[1,cc]]\n",
    "            TOTALprojection += forwardProjectForZ(HCC, realspace[cc])\n",
    "    else:\n",
    "        # Multithreaded over z\n",
    "        work = []\n",
    "        for cc in range(x3length):\n",
    "            HCC = H[cc, :, :, CAindex[0,cc]-1:CAindex[1,cc], CAindex[0,cc]-1:CAindex[1,cc]]\n",
    "            work.append((HCC, realspace[cc]))\n",
    "        results = Parallel(n_jobs=10) \\\n",
    "                    (delayed(forwardProjectForZ)(*args) for args in tqdm(work, desc='Forward-project - z'))\n",
    "        for result in results:\n",
    "            TOTALprojection += result                       \n",
    "    return TOTALprojection\n",
    "\n",
    "\n",
    "def backwardProjectForZ_old(HtCC, projection):\n",
    "    tempSliceBack = np.zeros(projection.shape, dtype='float32')\n",
    "    # Iterate over each lenslet pixel\n",
    "    Nnum = HtCC.shape[1]\n",
    "    for aa in tqdm(range(Nnum), leave=False, desc='y'):\n",
    "        if True:\n",
    "#            for bb in tqdm(range(Nnum), leave=False, desc='x'):    \n",
    "            for bb in range(Nnum):\n",
    "                # Extract the part of Ht that represents this lenslet pixel\n",
    "                Hts = HtCC[bb, aa]\n",
    "                # Create a workspace representing just the voxels cc,bb,aa behind each lenslet (the rest is 0)\n",
    "                tempSlice = np.zeros(projection.shape, dtype='float32')\n",
    "                tempSlice[bb::Nnum, aa::Nnum] = projection[bb::Nnum, aa::Nnum]\n",
    "                t1 = time.time()\n",
    "                # Compute how those voxels back-project from the sensor\n",
    "                tempSliceBack += fftconvolve(tempSlice, Hts, 'same')\n",
    "                t2 = time.time()\n",
    "                #print(' %.3f'%(t2-t1))\n",
    "        else:\n",
    "            work = []\n",
    "            for bb in range(Nnum):    \n",
    "                Hts = HtCC[bb, aa]\n",
    "                tempSlice = np.zeros(projection.shape, dtype='float32')\n",
    "                tempSlice[aa::Nnum, bb::Nnum] = projection[aa::Nnum, bb::Nnum]\n",
    "                work.append((tempSlice, Hts, 'same'))\n",
    "            results = Parallel(n_jobs=10)(delayed(conv2)(*args) for args in work)\n",
    "            for res in results:\n",
    "                tempSliceBack += res\n",
    "\n",
    "    return tempSliceBack\n",
    "    \n",
    "def backwardProjectForZY(HtCCBB, bb, projection):\n",
    "    tempSliceBack = None\n",
    "    Nnum = HtCCBB.shape[0]\n",
    "#    for aa in tqdm(range(Nnum), leave=False, desc='x'):    \n",
    "    for aa in range(Nnum):\n",
    "        # Extract the part of Ht that represents this lenslet pixel\n",
    "        Hts = HtCCBB[aa]\n",
    "        if True:\n",
    "            (fab, fshape, fslice, s1) = special_fftconvolve(projection, bb, aa, Nnum, Hts, newMethod=2)\n",
    "            if (tempSliceBack is None):\n",
    "                tempSliceBack = fab\n",
    "            else:\n",
    "                tempSliceBack += fab\n",
    "        else:\n",
    "            (tempSliceBack, fab, fshape, fslice, s1) = special_fftconvolve(tempSliceBack, projection, bb, aa, Nnum, Hts, newMethod=2)\n",
    "    return (tempSliceBack, fshape, fslice, s1)\n",
    "\n",
    "    \n",
    "def backwardProjectForZ(HtCC, projection):\n",
    "    tempSliceBack = None\n",
    "    Nnum = HtCC.shape[1]\n",
    "    for bb in tqdm(range(Nnum), leave=False, desc='y'):\n",
    "        (result, fshape, fslice, s1) = backwardProjectForZY(HtCC[bb], bb, projection)\n",
    "        if (tempSliceBack is None):\n",
    "            tempSliceBack = result\n",
    "        else:\n",
    "            tempSliceBack += result\n",
    "    return special_fftconvolve_part3(tempSliceBack, fshape, fslice, s1)\n",
    "\n",
    "def backwardProjectForZ_global(cc, CAindex, projection):\n",
    "    tempSliceBack = None\n",
    "    Nnum = HtCC.shape[1]\n",
    "    if False:\n",
    "        # Single-threaded\n",
    "        for bb in tqdm(range(Nnum), leave=False, desc='y'):\n",
    "            (result, fshape, fslice, s1) = backwardProjectForZY(HtCC[bb], bb, projection)\n",
    "            if (tempSliceBack is None):\n",
    "                tempSliceBack = result\n",
    "            else:\n",
    "                tempSliceBack += result\n",
    "\n",
    "    else:\n",
    "        # Multithreaded TO BE WRITTEN\n",
    "        assert(0)\n",
    "    return special_fftconvolve_part3(tempSliceBack, fshape, fslice, s1)\n",
    "\n",
    "global gHt\n",
    "\n",
    "def backwardProjectACC(Ht, projection, CAindex):\n",
    "    x3length = Ht.shape[0]\n",
    "    Backprojection = np.zeros((x3length, projection.shape[0], projection.shape[1]), dtype='float32')\n",
    "    # Iterate over each z plane\n",
    "    if True:\n",
    "        # Single-threaded over z\n",
    "#        for cc in tqdm(range(x3length), desc='Back-project - z'):\n",
    "        for cc in tqdm([4], desc='Back-project - z'):\n",
    "            print('%d: Ht crops to %dx%d' % (cc, CAindex[1,cc]-CAindex[0,cc], CAindex[1,cc]-CAindex[0,cc]))\n",
    "            HtCC =  Ht[cc, :, :, CAindex[0,cc]-1:CAindex[1,cc], CAindex[0,cc]-1:CAindex[1,cc]]\n",
    "            Backprojection[cc] = backwardProjectForZ(HtCC, projection)\n",
    "    else:\n",
    "        # Multithreaded over z\n",
    "        work = []\n",
    "        for cc in range(x3length):\n",
    "            HtCC =  Ht[cc, :, :, CAindex[0,cc]-1:CAindex[1,cc], CAindex[0,cc]-1:CAindex[1,cc]]\n",
    "#            work.append((HtCC, projection))\n",
    "            gHt = Ht\n",
    "            work.append((cc, CAindex, projection))\n",
    "\n",
    "        results = Parallel(n_jobs=10) \\\n",
    "                    (delayed(backwardProjectForZ_global)(*args) for args in tqdm(work, desc='Back-project - z'))\n",
    "        for cc in range(x3length):\n",
    "            Backprojection[cc] = results[cc]\n",
    "    return Backprojection\n",
    "\n",
    "def backwardProjectACC_original(Ht, projection, CAindex):\n",
    "    x3length = Ht.shape[0]\n",
    "    Backprojection = np.zeros((x3length, projection.shape[0], projection.shape[1]), dtype='float32')\n",
    "    # Iterate over each z plane\n",
    "#    for cc in tqdm(range(x3length), desc='Back-project - z'):\n",
    "    for cc in tqdm([4], desc='Back-project - z'):\n",
    "        HtCC =  Ht[cc, :, :, CAindex[0,cc]-1:CAindex[1,cc], CAindex[0,cc]-1:CAindex[1,cc]]\n",
    "        Backprojection[cc] = backwardProjectForZ_old(HtCC, projection)\n",
    "    return Backprojection"
   ]
  },
  {
   "cell_type": "code",
   "execution_count": 9,
   "metadata": {},
   "outputs": [],
   "source": [
    "def deconvRL(Htf, maxIter, Xguess):\n",
    "    for i in range(maxIter):\n",
    "        t0 = time.time()\n",
    "        HXguess = forwardProjectACC(H, Xguess, CAindex)\n",
    "\n",
    "        \n",
    "        \n",
    "        #print(HXguess.shape, HXguess.dtype)\n",
    "        #tifffile.imsave('HXguess.tif', np.transpose(HXguess))        \n",
    "        #return HXguess\n",
    "        \n",
    "        \n",
    "        \n",
    "        HXguessBack = backwardProjectACC(Ht, HXguess, CAindex)\n",
    "        errorBack = Htf / HXguessBack\n",
    "        Xguess = Xguess * errorBack\n",
    "        Xguess[np.where(np.isnan(Xguess))] = 0\n",
    "        ttime = time.time() - t0\n",
    "        print('iter %d | %d, took %.1f secs' % (i+1, maxIter, ttime))\n",
    "    return Xguess"
   ]
  },
  {
   "cell_type": "code",
   "execution_count": null,
   "metadata": {},
   "outputs": [],
   "source": []
  },
  {
   "cell_type": "code",
   "execution_count": null,
   "metadata": {},
   "outputs": [],
   "source": []
  },
  {
   "cell_type": "code",
   "execution_count": 9,
   "metadata": {},
   "outputs": [
    {
     "name": "stdout",
     "output_type": "stream",
     "text": [
      "(1, 450, 675)\n"
     ]
    }
   ],
   "source": [
    "# Load the input image\n",
    "LFmovie = tifffile.imread('Data/02_Rectified/exampleData/20131219WORM2_small_full_neg_X1_N15_cropped_uncompressed.tif')\n",
    "LFmovie = LFmovie.transpose()[np.newaxis,:,:]\n",
    "print(LFmovie.shape)"
   ]
  },
  {
   "cell_type": "code",
   "execution_count": 72,
   "metadata": {
    "scrolled": true
   },
   "outputs": [
    {
     "data": {
      "application/vnd.jupyter.widget-view+json": {
       "model_id": "99b415f8d5fb4da3bf5b6b5d49f2a61a",
       "version_major": 2,
       "version_minor": 0
      },
      "text/plain": [
       "SEJveChjaGlsZHJlbj0oSW50UHJvZ3Jlc3ModmFsdWU9MCwgZGVzY3JpcHRpb249dSdCYWNrLXByb2plY3QgLSB6JywgbWF4PTEsIHN0eWxlPVByb2dyZXNzU3R5bGUoZGVzY3JpcHRpb25fd2nigKY=\n"
      ]
     },
     "metadata": {},
     "output_type": "display_data"
    },
    {
     "name": "stdout",
     "output_type": "stream",
     "text": [
      "4: Ht crops to 270x270\n"
     ]
    },
    {
     "data": {
      "application/vnd.jupyter.widget-view+json": {
       "model_id": "",
       "version_major": 2,
       "version_minor": 0
      },
      "text/plain": [
       "SEJveChjaGlsZHJlbj0oSW50UHJvZ3Jlc3ModmFsdWU9MCwgZGVzY3JpcHRpb249dSd5JywgbWF4PTE1LCBzdHlsZT1Qcm9ncmVzc1N0eWxlKGRlc2NyaXB0aW9uX3dpZHRoPXUnaW5pdGlhbCfigKY=\n"
      ]
     },
     "metadata": {},
     "output_type": "display_data"
    },
    {
     "name": "stdout",
     "output_type": "stream",
     "text": [
      "Sun May 12 10:58:41 2019    mystats\n",
      "\n",
      "         252772 function calls (241492 primitive calls) in 24.059 seconds\n",
      "\n",
      "   Ordered by: cumulative time\n",
      "   List reduced from 385 to 40 due to restriction <40>\n",
      "\n",
      "   ncalls  tottime  percall  cumtime  percall filename:lineno(function)\n",
      "        1    0.009    0.009   24.059   24.059 <string>:1(<module>)\n",
      "        1    0.007    0.007   24.047   24.047 <ipython-input-69-41038f093b2d>:155(backwardProjectACC)\n",
      "        1    0.091    0.091   23.902   23.902 <ipython-input-69-41038f093b2d>:125(backwardProjectForZ)\n",
      "       15    1.802    0.120   23.508    1.567 <ipython-input-69-41038f093b2d>:107(backwardProjectForZY)\n",
      "      225    3.845    0.017   21.706    0.096 <ipython-input-71-8f2619f9cf6d>:149(special_fftconvolve)\n",
      "      225    0.093    0.000   14.334    0.064 fftpack.py:1041(rfftn)\n",
      "      902    0.222    0.000   14.098    0.016 fftpack.py:55(_raw_fft)\n",
      "      675    0.400    0.001   12.808    0.019 fftpack.py:115(fft)\n",
      "      675   11.379    0.017   11.379    0.017 {numpy.fft.fftpack_lite.cfftf}\n",
      "      225    0.023    0.000    3.528    0.016 <ipython-input-71-8f2619f9cf6d>:122(special_fftconvolve_part1)\n",
      "      225    0.004    0.000    3.501    0.016 <ipython-input-71-8f2619f9cf6d>:90(special_rfftn)\n",
      "      225    0.417    0.002    3.262    0.014 <ipython-input-71-8f2619f9cf6d>:81(expand)\n",
      "      225    0.005    0.000    1.623    0.007 fftpack.py:307(rfft)\n",
      "      225    1.473    0.007    1.473    0.007 {numpy.fft.fftpack_lite.rfftf}\n",
      "      225    0.004    0.000    1.156    0.005 <ipython-input-71-8f2619f9cf6d>:75(expand4)\n",
      "      225    0.002    0.000    1.152    0.005 function_base.py:4636(append)\n",
      "      225    1.149    0.005    1.149    0.005 {numpy.concatenate}\n",
      "      451    0.017    0.000    0.931    0.002 shape_base.py:1154(tile)\n",
      "      452    0.901    0.002    0.901    0.002 {method 'repeat' of 'numpy.ndarray' objects}\n",
      "      225    0.001    0.000    0.875    0.004 <ipython-input-71-8f2619f9cf6d>:72(expand3)\n",
      "      902    0.822    0.001    0.822    0.001 {numpy.zeros}\n",
      "      225    0.653    0.003    0.657    0.003 <ipython-input-71-8f2619f9cf6d>:63(tempMul)\n",
      "      225    0.001    0.000    0.235    0.001 fftpack.py:666(fftn)\n",
      "      225    0.003    0.000    0.234    0.001 fftpack.py:652(_raw_fftnd)\n",
      "        2    0.000    0.000    0.174    0.087 __init__.py:22(tqdm_notebook)\n",
      "        2    0.000    0.000    0.173    0.087 _tqdm_notebook.py:188(__init__)\n",
      "        2    0.000    0.000    0.168    0.084 _tqdm_notebook.py:88(status_printer)\n",
      "      225    0.101    0.000    0.157    0.001 <ipython-input-71-8f2619f9cf6d>:67(expand2)\n",
      "        1    0.002    0.002    0.145    0.145 <ipython-input-71-8f2619f9cf6d>:145(special_fftconvolve_part3)\n",
      "      902    0.018    0.000    0.144    0.000 helper.py:259(put_twiddle_factors)\n",
      "        1    0.010    0.010    0.140    0.140 fftpack.py:1172(irfftn)\n",
      "     16/6    0.000    0.000    0.124    0.021 widget.py:408(__init__)\n",
      "     16/6    0.000    0.000    0.123    0.020 widget.py:424(open)\n",
      "    55/45    0.002    0.000    0.116    0.003 widget.py:486(get_state)\n",
      "      902    0.004    0.000    0.113    0.000 helper.py:313(_prune_cache)\n",
      "      902    0.028    0.000    0.109    0.000 helper.py:319(_check_size)\n",
      "6723/4169    0.006    0.000    0.105    0.000 traitlets.py:545(__get__)\n",
      "2907/2165    0.005    0.000    0.101    0.000 traitlets.py:526(get)\n",
      "19249/12215    0.012    0.000    0.095    0.000 {getattr}\n",
      "       10    0.000    0.000    0.084    0.008 trait_types.py:141(make_dynamic_default)\n",
      "\n",
      "\n",
      "iter 0 | 8, took 24.1 secs\n"
     ]
    }
   ],
   "source": [
    "maxIter = 8\n",
    "#for frame in range(1):\n",
    "frame = 0\n",
    "\n",
    "LFIMG = LFmovie[frame].astype('float32')\n",
    "t0 = time.time()\n",
    "if False:\n",
    "    Htf = backwardProjectACC_original(Ht, LFIMG, CAindex)\n",
    "else:\n",
    "    myStats = cProfile.run('backwardProjectACC(Ht, np.tile(LFIMG,(2,2)), CAindex)', 'mystats')\n",
    "    p = pstats.Stats('mystats')\n",
    "    p.strip_dirs().sort_stats('cumulative').print_stats(40)\n",
    "\n",
    "print('iter 0 | %d, took %.1f secs' % (maxIter, time.time()-t0))\n",
    "# Used to take 6:08, 18.19s/it\n",
    "# Now takes 2:16, 5.83s/it\n",
    "# With multithreading it takes a total of 38.2s (i.e. speedup of 3.5x). So still significant scope for improvement.\n",
    "# When I make Ht into a global variable it speeds up to 35.4s. \n",
    "# I think much of the problem is just that it's not distributing the work evenly enough across threads\n",
    "\n",
    "# On macbook, took 2:34 single-threaded\n",
    "\n",
    "# Macbook timings testing with back-projecting plane 4:\n",
    "#  Original version took 20.0s\n",
    "#  With reduced work, but no symmetries, takes 7.8s. I have eliminated the two most expensive FFTs so I\n",
    "#  might have hoped for about 6s runtime, but there are still overheads in handling the replacement maths:\n",
    "#   6.7s in special_fftconvolve, breaking down as:\n",
    "#     1.35 in part1\n",
    "#     4.3 in rfftn\n",
    "#     1.0 on fa*fb\n",
    "#   So, I can speed things up by using symmetries in rfftn, but there are still other overheads\n",
    "#   The time in part1 is mostly taken up with expanding the second dimension (as you'd expect).\n",
    "#   I suspect I could speed that up by doing the multiplication on-the-fly without ever tiling the fa matrix.\n",
    "#   That would be a bit messy, but I should try it.\n",
    "\n",
    "\n",
    "# TODO: since I am profiling, I should do so for the full z range to see what difference it makes,\n",
    "# and also maybe consider doing it for a larger sensor size just to check whether that changes the relative importances.\n"
   ]
  },
  {
   "cell_type": "code",
   "execution_count": 241,
   "metadata": {},
   "outputs": [
    {
     "name": "stdout",
     "output_type": "stream",
     "text": [
      "6.30233e-07\n"
     ]
    }
   ],
   "source": [
    "#oldHtf = Htf.copy()\n",
    "print(np.max(np.abs(Htf - oldHtf)) / np.max(np.abs(Htf)))"
   ]
  },
  {
   "cell_type": "code",
   "execution_count": 39,
   "metadata": {
    "scrolled": true
   },
   "outputs": [
    {
     "data": {
      "application/vnd.jupyter.widget-view+json": {
       "model_id": "dcabbd381dba413782cde5914bdadbb3",
       "version_major": 2,
       "version_minor": 0
      },
      "text/plain": [
       "SEJveChjaGlsZHJlbj0oSW50UHJvZ3Jlc3ModmFsdWU9MCwgZGVzY3JpcHRpb249dSdGb3J3YXJkLXByb2plY3QgLSB6JywgbWF4PTE0LCBzdHlsZT1Qcm9ncmVzc1N0eWxlKGRlc2NyaXB0aW/igKY=\n"
      ]
     },
     "metadata": {},
     "output_type": "display_data"
    },
    {
     "data": {
      "application/vnd.jupyter.widget-view+json": {
       "model_id": "313db16bf2414e26a02b303afdb9db06",
       "version_major": 2,
       "version_minor": 0
      },
      "text/plain": [
       "SEJveChjaGlsZHJlbj0oSW50UHJvZ3Jlc3ModmFsdWU9MCwgZGVzY3JpcHRpb249dSdGb3J3YXJkLXByb2plY3QgLSB5JywgbWF4PTE1LCBzdHlsZT1Qcm9ncmVzc1N0eWxlKGRlc2NyaXB0aW/igKY=\n"
      ]
     },
     "metadata": {},
     "output_type": "display_data"
    },
    {
     "data": {
      "application/vnd.jupyter.widget-view+json": {
       "model_id": "1f184a9025734152b5e06ee1ab3cce50",
       "version_major": 2,
       "version_minor": 0
      },
      "text/plain": [
       "SEJveChjaGlsZHJlbj0oSW50UHJvZ3Jlc3ModmFsdWU9MCwgZGVzY3JpcHRpb249dSdGb3J3YXJkLXByb2plY3QgLSB4JywgbWF4PTE1LCBzdHlsZT1Qcm9ncmVzc1N0eWxlKGRlc2NyaXB0aW/igKY=\n"
      ]
     },
     "metadata": {},
     "output_type": "display_data"
    },
    {
     "name": "stdout",
     "output_type": "stream",
     "text": [
      "\n"
     ]
    },
    {
     "ename": "ValueError",
     "evalue": "too many values to unpack",
     "output_type": "error",
     "traceback": [
      "\u001b[0;31m---------------------------------------------------------------------------\u001b[0m",
      "\u001b[0;31mValueError\u001b[0m                                Traceback (most recent call last)",
      "\u001b[0;32m<ipython-input-39-a41a46f0ac9e>\u001b[0m in \u001b[0;36m<module>\u001b[0;34m()\u001b[0m\n\u001b[1;32m      2\u001b[0m \u001b[0;31m# TODO: Probably don't need to copy it, but I am doing that now for safety\u001b[0m\u001b[0;34m\u001b[0m\u001b[0;34m\u001b[0m\u001b[0m\n\u001b[1;32m      3\u001b[0m \u001b[0;34m\u001b[0m\u001b[0m\n\u001b[0;32m----> 4\u001b[0;31m \u001b[0mXguess\u001b[0m \u001b[0;34m=\u001b[0m \u001b[0mdeconvRL\u001b[0m\u001b[0;34m(\u001b[0m\u001b[0mHtf\u001b[0m\u001b[0;34m,\u001b[0m \u001b[0mmaxIter\u001b[0m\u001b[0;34m,\u001b[0m \u001b[0mXguess\u001b[0m\u001b[0;34m)\u001b[0m\u001b[0;34m\u001b[0m\u001b[0m\n\u001b[0m\u001b[1;32m      5\u001b[0m \u001b[0;34m\u001b[0m\u001b[0m\n\u001b[1;32m      6\u001b[0m \u001b[0;34m\u001b[0m\u001b[0m\n",
      "\u001b[0;32m<ipython-input-8-08aac585df1f>\u001b[0m in \u001b[0;36mdeconvRL\u001b[0;34m(Htf, maxIter, Xguess)\u001b[0m\n\u001b[1;32m      2\u001b[0m     \u001b[0;32mfor\u001b[0m \u001b[0mi\u001b[0m \u001b[0;32min\u001b[0m \u001b[0mrange\u001b[0m\u001b[0;34m(\u001b[0m\u001b[0mmaxIter\u001b[0m\u001b[0;34m)\u001b[0m\u001b[0;34m:\u001b[0m\u001b[0;34m\u001b[0m\u001b[0m\n\u001b[1;32m      3\u001b[0m         \u001b[0mt0\u001b[0m \u001b[0;34m=\u001b[0m \u001b[0mtime\u001b[0m\u001b[0;34m.\u001b[0m\u001b[0mtime\u001b[0m\u001b[0;34m(\u001b[0m\u001b[0;34m)\u001b[0m\u001b[0;34m\u001b[0m\u001b[0m\n\u001b[0;32m----> 4\u001b[0;31m         \u001b[0mHXguess\u001b[0m \u001b[0;34m=\u001b[0m \u001b[0mforwardProjectACC\u001b[0m\u001b[0;34m(\u001b[0m\u001b[0mH\u001b[0m\u001b[0;34m,\u001b[0m \u001b[0mXguess\u001b[0m\u001b[0;34m,\u001b[0m \u001b[0mCAindex\u001b[0m\u001b[0;34m)\u001b[0m\u001b[0;34m\u001b[0m\u001b[0m\n\u001b[0m\u001b[1;32m      5\u001b[0m \u001b[0;34m\u001b[0m\u001b[0m\n\u001b[1;32m      6\u001b[0m \u001b[0;34m\u001b[0m\u001b[0m\n",
      "\u001b[0;32m<ipython-input-38-bfca6e7f684c>\u001b[0m in \u001b[0;36mforwardProjectACC\u001b[0;34m(H, realspace, CAindex)\u001b[0m\n\u001b[1;32m     61\u001b[0m         \u001b[0;32mfor\u001b[0m \u001b[0mcc\u001b[0m \u001b[0;32min\u001b[0m \u001b[0mtqdm\u001b[0m\u001b[0;34m(\u001b[0m\u001b[0mrange\u001b[0m\u001b[0;34m(\u001b[0m\u001b[0mx3length\u001b[0m\u001b[0;34m)\u001b[0m\u001b[0;34m,\u001b[0m \u001b[0mdesc\u001b[0m\u001b[0;34m=\u001b[0m\u001b[0;34m'Forward-project - z'\u001b[0m\u001b[0;34m)\u001b[0m\u001b[0;34m:\u001b[0m\u001b[0;34m\u001b[0m\u001b[0m\n\u001b[1;32m     62\u001b[0m             \u001b[0mHCC\u001b[0m \u001b[0;34m=\u001b[0m \u001b[0mH\u001b[0m\u001b[0;34m[\u001b[0m\u001b[0mcc\u001b[0m\u001b[0;34m,\u001b[0m \u001b[0;34m:\u001b[0m\u001b[0;34m,\u001b[0m \u001b[0;34m:\u001b[0m\u001b[0;34m,\u001b[0m \u001b[0mCAindex\u001b[0m\u001b[0;34m[\u001b[0m\u001b[0;36m0\u001b[0m\u001b[0;34m,\u001b[0m\u001b[0mcc\u001b[0m\u001b[0;34m]\u001b[0m\u001b[0;34m-\u001b[0m\u001b[0;36m1\u001b[0m\u001b[0;34m:\u001b[0m\u001b[0mCAindex\u001b[0m\u001b[0;34m[\u001b[0m\u001b[0;36m1\u001b[0m\u001b[0;34m,\u001b[0m\u001b[0mcc\u001b[0m\u001b[0;34m]\u001b[0m\u001b[0;34m,\u001b[0m \u001b[0mCAindex\u001b[0m\u001b[0;34m[\u001b[0m\u001b[0;36m0\u001b[0m\u001b[0;34m,\u001b[0m\u001b[0mcc\u001b[0m\u001b[0;34m]\u001b[0m\u001b[0;34m-\u001b[0m\u001b[0;36m1\u001b[0m\u001b[0;34m:\u001b[0m\u001b[0mCAindex\u001b[0m\u001b[0;34m[\u001b[0m\u001b[0;36m1\u001b[0m\u001b[0;34m,\u001b[0m\u001b[0mcc\u001b[0m\u001b[0;34m]\u001b[0m\u001b[0;34m]\u001b[0m\u001b[0;34m\u001b[0m\u001b[0m\n\u001b[0;32m---> 63\u001b[0;31m             \u001b[0mTOTALprojection\u001b[0m \u001b[0;34m+=\u001b[0m \u001b[0mforwardProjectForZ\u001b[0m\u001b[0;34m(\u001b[0m\u001b[0mHCC\u001b[0m\u001b[0;34m,\u001b[0m \u001b[0mrealspace\u001b[0m\u001b[0;34m[\u001b[0m\u001b[0mcc\u001b[0m\u001b[0;34m]\u001b[0m\u001b[0;34m)\u001b[0m\u001b[0;34m\u001b[0m\u001b[0m\n\u001b[0m\u001b[1;32m     64\u001b[0m     \u001b[0;32melse\u001b[0m\u001b[0;34m:\u001b[0m\u001b[0;34m\u001b[0m\u001b[0m\n\u001b[1;32m     65\u001b[0m         \u001b[0;31m# Multithreaded over z\u001b[0m\u001b[0;34m\u001b[0m\u001b[0;34m\u001b[0m\u001b[0m\n",
      "\u001b[0;32m<ipython-input-38-bfca6e7f684c>\u001b[0m in \u001b[0;36mforwardProjectForZ\u001b[0;34m(HCC, realspaceCC)\u001b[0m\n\u001b[1;32m     29\u001b[0m             \u001b[0mtempspace\u001b[0m\u001b[0;34m[\u001b[0m\u001b[0mbb\u001b[0m\u001b[0;34m:\u001b[0m\u001b[0;34m:\u001b[0m\u001b[0mNnum\u001b[0m\u001b[0;34m,\u001b[0m \u001b[0maa\u001b[0m\u001b[0;34m:\u001b[0m\u001b[0;34m:\u001b[0m\u001b[0mNnum\u001b[0m\u001b[0;34m]\u001b[0m \u001b[0;34m=\u001b[0m \u001b[0mrealspaceCC\u001b[0m\u001b[0;34m[\u001b[0m\u001b[0mbb\u001b[0m\u001b[0;34m:\u001b[0m\u001b[0;34m:\u001b[0m\u001b[0mNnum\u001b[0m\u001b[0;34m,\u001b[0m \u001b[0maa\u001b[0m\u001b[0;34m:\u001b[0m\u001b[0;34m:\u001b[0m\u001b[0mNnum\u001b[0m\u001b[0;34m]\u001b[0m  \u001b[0;31m# ???? what to do about index ordering?\u001b[0m\u001b[0;34m\u001b[0m\u001b[0m\n\u001b[1;32m     30\u001b[0m             \u001b[0;31m# Compute how those voxels project onto the sensor, and accumulate\u001b[0m\u001b[0;34m\u001b[0m\u001b[0;34m\u001b[0m\u001b[0m\n\u001b[0;32m---> 31\u001b[0;31m             \u001b[0;34m(\u001b[0m\u001b[0mfab\u001b[0m\u001b[0;34m,\u001b[0m \u001b[0mfshape\u001b[0m\u001b[0;34m,\u001b[0m \u001b[0mfslice\u001b[0m\u001b[0;34m,\u001b[0m \u001b[0ms1\u001b[0m\u001b[0;34m)\u001b[0m \u001b[0;34m=\u001b[0m \u001b[0mconv2\u001b[0m\u001b[0;34m(\u001b[0m\u001b[0mtempspace\u001b[0m\u001b[0;34m,\u001b[0m \u001b[0mHs\u001b[0m\u001b[0;34m,\u001b[0m \u001b[0;34m'same'\u001b[0m\u001b[0;34m)\u001b[0m\u001b[0;34m\u001b[0m\u001b[0m\n\u001b[0m\u001b[1;32m     32\u001b[0m             \u001b[0;32mif\u001b[0m \u001b[0;34m(\u001b[0m\u001b[0mTOTALprojection\u001b[0m \u001b[0;32mis\u001b[0m \u001b[0mNone\u001b[0m\u001b[0;34m)\u001b[0m\u001b[0;34m:\u001b[0m\u001b[0;34m\u001b[0m\u001b[0m\n\u001b[1;32m     33\u001b[0m                 \u001b[0mTOTALprojection\u001b[0m \u001b[0;34m=\u001b[0m \u001b[0mfab\u001b[0m\u001b[0;34m\u001b[0m\u001b[0m\n",
      "\u001b[0;31mValueError\u001b[0m: too many values to unpack"
     ]
    }
   ],
   "source": [
    "Xguess = Htf.copy();    # Or do it differently if !indepIter\n",
    "# TODO: Probably don't need to copy it, but I am doing that now for safety\n",
    "\n",
    "Xguess = deconvRL(Htf, maxIter, Xguess)\n",
    "    \n",
    "    \n",
    "    \n",
    "'''\n",
    "Matlab (with multithreading) takes:\n",
    "  iter 0 | 8, took 28.1 secs\n",
    "    z=1 took 3.9252 secs\n",
    "    z=2 took 3.7995 secs\n",
    "    z=3 took 2.9881 secs\n",
    "    z=4 took 2.7214 secs\n",
    "    z=5 took 2.4903 secs\n",
    "    z=6 took 2.2715 secs\n",
    "    z=7 took 1.9398 secs\n",
    "    z=8 took 1.7239 secs\n",
    "    z=9 took 1.4613 secs\n",
    "    z=10 took 1.2395 secs\n",
    "    z=11 took 0.97674 secs\n",
    "    z=12 took 0.83704 secs\n",
    "    z=13 took 0.83821 secs\n",
    "    z=14 took 0.85321 secs\n",
    " \n",
    " \n",
    "My python code took 340 secs.\n",
    "That's about 10x slower, which means I'm not too far off with multithreading.\n",
    "With threading at the z level it took 83 seconds (~4x speedup compared to single-threading),\n",
    "with much of the slowness due to not all cores being in use for the whole of the calculation time.\n",
    "With threading at the b level it took 228 seconds (not much speedup compared to single-threading; not sure why)\n",
    "\n",
    "I think parallelism ought to be a bit better in the case where I have more planes to reconstruct,\n",
    "although I should probably sort them by matrix size so I start on the slowest ones first.\n",
    "'''\n",
    "0"
   ]
  },
  {
   "cell_type": "code",
   "execution_count": 233,
   "metadata": {},
   "outputs": [],
   "source": [
    "Xguess_0 = Xguess.copy()\n",
    "tifffile.imsave('iter8.tif', np.transpose(Xguess_0*1e3, axes=(0,2,1)))"
   ]
  },
  {
   "cell_type": "code",
   "execution_count": null,
   "metadata": {},
   "outputs": [],
   "source": [
    "# Xguess_1 - parallelized at z level\n",
    "# Xguess_2 - parallelized at b level\n",
    "# Xguess_3 - no parallelization"
   ]
  },
  {
   "cell_type": "code",
   "execution_count": null,
   "metadata": {},
   "outputs": [],
   "source": []
  },
  {
   "cell_type": "code",
   "execution_count": null,
   "metadata": {},
   "outputs": [],
   "source": []
  },
  {
   "cell_type": "code",
   "execution_count": 60,
   "metadata": {},
   "outputs": [
    {
     "data": {
      "image/png": "[encoded data removed]",
      "text/plain": [
       "<matplotlib.figure.Figure at 0x202c47630>"
      ]
     },
     "metadata": {},
     "output_type": "display_data"
    },
    {
     "data": {
      "image/png": "[encoded data removed]",
      "text/plain": [
       "<matplotlib.figure.Figure at 0x20c0cbc18>"
      ]
     },
     "metadata": {},
     "output_type": "display_data"
    },
    {
     "data": {
      "image/png": "[encoded data removed]",
      "text/plain": [
       "<matplotlib.figure.Figure at 0x20b40e748>"
      ]
     },
     "metadata": {},
     "output_type": "display_data"
    },
    {
     "data": {
      "image/png": "[encoded data removed]",
      "text/plain": [
       "<matplotlib.figure.Figure at 0x1fd053f98>"
      ]
     },
     "metadata": {},
     "output_type": "display_data"
    }
   ],
   "source": [
    "plt.imshow(Xguess_0[13])\n",
    "plt.show()\n",
    "\n",
    "plt.imshow(Xguess_1[13])\n",
    "plt.show()\n",
    "plt.imshow(Xguess_2[13])\n",
    "plt.show()\n",
    "plt.imshow(Xguess_3[13])\n",
    "plt.show()"
   ]
  },
  {
   "cell_type": "code",
   "execution_count": null,
   "metadata": {
    "collapsed": true
   },
   "outputs": [],
   "source": [
    "HXguess = forwardProjectACC(H, Xguess_1, CAindex)"
   ]
  },
  {
   "cell_type": "code",
   "execution_count": null,
   "metadata": {},
   "outputs": [],
   "source": []
  },
  {
   "cell_type": "code",
   "execution_count": 62,
   "metadata": {},
   "outputs": [
    {
     "name": "stdout",
     "output_type": "stream",
     "text": [
      "0.280515909195\n",
      "0.289818048477\n",
      "0.229124069214\n"
     ]
    }
   ],
   "source": [
    "a = np.random.random((300,300))\n",
    "t1 = time.time()\n",
    "for n in range(10):\n",
    "    b = np.fft.rfftn(a, s=(1000,1000))\n",
    "print(time.time()-t1)\n",
    "t1 = time.time()\n",
    "for n in range(10):\n",
    "    b = np.fft.rfftn(a, s=(1000,1000),axes=(0,1))\n",
    "print(time.time()-t1)\n",
    "t1 = time.time()\n",
    "for n in range(10):\n",
    "    b = np.fft.rfftn(a, s=(1000,1000),axes=(1,0))\n",
    "print(time.time()-t1)"
   ]
  },
  {
   "cell_type": "code",
   "execution_count": null,
   "metadata": {},
   "outputs": [],
   "source": []
  }
 ],
 "metadata": {
  "kernelspec": {
   "display_name": "Python 2",
   "language": "python",
   "name": "python2"
  },
  "language_info": {
   "codemirror_mode": {
    "name": "ipython",
    "version": 2
   },
   "file_extension": ".py",
   "mimetype": "text/x-python",
   "name": "python",
   "nbconvert_exporter": "python",
   "pygments_lexer": "ipython2",
   "version": "2.7.15"
  }
 },
 "nbformat": 4,
 "nbformat_minor": 2
}
