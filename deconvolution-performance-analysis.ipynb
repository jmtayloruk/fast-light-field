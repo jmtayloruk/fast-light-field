{
 "cells": [
  {
   "cell_type": "code",
   "execution_count": null,
   "metadata": {},
   "outputs": [],
   "source": [
    "import numpy as np\n",
    "import matplotlib.pyplot as plt\n",
    "import multiprocessing\n",
    "import tifffile\n",
    "import sys, time, os, csv, warnings\n",
    "import cProfile, pstats\n",
    "from jutils import tqdm_alias as tqdm\n",
    "\n",
    "import psfmatrix, lfimage\n",
    "import projector, lfdeconv\n",
    "import special_fftconvolve as special\n",
    "import jutils as util\n",
    "import py_light_field as plf"
   ]
  },
  {
   "cell_type": "code",
   "execution_count": null,
   "metadata": {},
   "outputs": [],
   "source": [
    "projectorClass = projector.Projector_allC\n",
    "inputImage = lfimage.LoadLightFieldTiff('/Users/jonny/Movies/Nils files/Rectified/Left/Cam_Left_40_X1_N19.tif')\n",
    "hMatrix = psfmatrix.LoadMatrix('PSFmatrix/reducedPSFMatrix_M22.2NA0.5MLPitch125fml3125from-156to156zspacing4Nnum19lambda520n1.33.mat')"
   ]
  },
  {
   "cell_type": "code",
   "execution_count": null,
   "metadata": {},
   "outputs": [],
   "source": [
    "if True:\n",
    "    # Timing measurements\n",
    "    tileFactor = 1\n",
    "\n",
    "    inputImageXN = np.tile(inputImage[np.newaxis,:,:],(tileFactor,1,1))\n",
    "    # We will only process one plane, in the interests of speed,\n",
    "    # although we must remember that that means the analysis may not \n",
    "    # be representative of a full deconvolution pipeline\n",
    "    planesToRun = range(0,1)\n",
    "    # Prime the cache first\n",
    "    Htf = lfdeconv.BackwardProjectACC(hMatrix, inputImageXN, planes=planesToRun, progress=tqdm, logPrint=False, projector=projectorClass())\n",
    "    # Now actually measure\n",
    "    plf.SetStatsFile('timestats.txt', False)\n",
    "    Htf = lfdeconv.BackwardProjectACC(hMatrix, inputImageXN, planes=planesToRun, progress=tqdm, logPrint=False, projector=projectorClass())\n",
    "    plf.SetStatsFile('', True)"
   ]
  },
  {
   "cell_type": "code",
   "execution_count": null,
   "metadata": {
    "scrolled": false
   },
   "outputs": [],
   "source": [
    "rows = []\n",
    "with open('threads.txt') as f:\n",
    "    cf = csv.reader(f, delimiter='\\t')\n",
    "    for row in cf:\n",
    "        rows.append(np.array(row).astype(np.double))\n",
    "t0 = rows[0][2]\n",
    "col = ['red', 'green', 'blue']\n",
    "lab = ['FFT', 'mirror', 'convolve']\n",
    "plt.figure(figsize=(14,4))\n",
    "reportWaits = 10\n",
    "runTime = 0\n",
    "mutexTime = 0\n",
    "for w in range(3):\n",
    "    for t in range(8):\n",
    "        x = []; y = []\n",
    "        mx = []; my = []\n",
    "        intermediateTimes = []\n",
    "        for r in rows:\n",
    "            if (r[0] == t) and (r[1] == w):\n",
    "                x.extend([r[2], r[2], r[3], r[3]])\n",
    "                y.extend([0,1,1,0])\n",
    "                runTime += r[3]-r[2]\n",
    "                if (w == 2):\n",
    "                    if ((r[5]-r[4]) > 5e-6):\n",
    "                        if (reportWaits):\n",
    "                            print(\"Mutex wait: %le\"%(r[5]-r[4]))\n",
    "                            reportWaits = reportWaits - 1\n",
    "                        mx.extend([r[4], r[4], r[5], r[5]])\n",
    "                        my.extend([0,1,1,0])\n",
    "                    mutexTime += r[5]-r[4]\n",
    "                    if (r[6] != 0) and ((r[7]-r[6]) > 1e-5):\n",
    "                        if (reportWaits):\n",
    "                            print(\"Mutex wait: %le\"%(r[7]-r[6]))\n",
    "                            reportWaits = reportWaits - 1\n",
    "                        mx.extend([r[6], r[6], r[7], r[7]])\n",
    "                        my.extend([0,1,1,0])\n",
    "                    mutexTime += r[7]-r[6]\n",
    "                if (w == 0):\n",
    "                    intermediateTimes.extend([r[5], r[7]])\n",
    "\n",
    "                        \n",
    "        x = np.array(x) - t0\n",
    "        y = np.array(y)\n",
    "        mx = np.array(mx) - t0\n",
    "        my = np.array(my)\n",
    "        intermediateTimes = np.array(intermediateTimes) - t0\n",
    "        if t == 0:\n",
    "            thisLabel = lab[w]\n",
    "        else:\n",
    "            thisLabel = None\n",
    "        # Show the time spent working on a task\n",
    "        plt.fill_between(x, t, t+y/2, color=col[w], where=y.astype(np.bool), label=thisLabel)\n",
    "        # Show the time spent waiting to acquire an accum mutex.\n",
    "        plt.fill_between(mx, t+0.1, t+0.1+my*0.3, where=my.astype(np.bool), color='gray')\n",
    "        if (w == 0):\n",
    "            plt.plot(intermediateTimes, [t+0.25]*len(intermediateTimes), 'x', color='black')\n",
    "\n",
    "print('Run %.2f, active %.2f, mutex %.2f, idle frac %.2f' % (runTime, runTime-mutexTime, mutexTime, mutexTime/runTime))\n",
    "#        plt.xlim(0.1,1)\n",
    "if (reportWaits == 0):\n",
    "    warnings.warn('Did not report all waits')\n",
    "plt.legend()\n",
    "plt.show()            "
   ]
  },
  {
   "cell_type": "code",
   "execution_count": null,
   "metadata": {},
   "outputs": [],
   "source": []
  }
 ],
 "metadata": {
  "kernelspec": {
   "display_name": "Python 3",
   "language": "python",
   "name": "python3"
  },
  "language_info": {
   "codemirror_mode": {
    "name": "ipython",
    "version": 3
   },
   "file_extension": ".py",
   "mimetype": "text/x-python",
   "name": "python",
   "nbconvert_exporter": "python",
   "pygments_lexer": "ipython3",
   "version": "3.5.5"
  }
 },
 "nbformat": 4,
 "nbformat_minor": 2
}
